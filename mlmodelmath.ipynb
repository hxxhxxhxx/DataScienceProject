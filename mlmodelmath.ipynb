{
 "cells": [
  {
   "cell_type": "code",
   "execution_count": 1,
   "metadata": {
    "collapsed": false
   },
   "outputs": [
    {
     "name": "stdout",
     "output_type": "stream",
     "text": [
      "C:\\Users\\Mukesh  Yadav\\Documents\\python project\\student\n"
     ]
    }
   ],
   "source": [
    "cd student"
   ]
  },
  {
   "cell_type": "code",
   "execution_count": 2,
   "metadata": {
    "collapsed": false
   },
   "outputs": [
    {
     "name": "stderr",
     "output_type": "stream",
     "text": [
      "C:\\Users\\Mukesh  Yadav\\Anaconda2\\lib\\site-packages\\sklearn\\cross_validation.py:44: DeprecationWarning: This module was deprecated in version 0.18 in favor of the model_selection module into which all the refactored classes and functions are moved. Also note that the interface of the new CV iterators are different from that of this module. This module will be removed in 0.20.\n",
      "  \"This module will be removed in 0.20.\", DeprecationWarning)\n"
     ]
    },
    {
     "name": "stdout",
     "output_type": "stream",
     "text": [
      "\n",
      "\n",
      "Top of the training data:\n",
      "   Unnamed: 0 school sex  age address famsize Pstatus  Medu  Fedu      Mjob  \\\n",
      "0          84     GP   F   15       U     GT3       T     1     1     other   \n",
      "1         340     GP   F   19       U     GT3       T     2     1  services   \n",
      "2         104     GP   M   15       U     GT3       A     3     4  services   \n",
      "3         146     GP   F   15       U     GT3       T     3     2    health   \n",
      "4         175     GP   M   17       U     LE3       T     4     3   teacher   \n",
      "\n",
      "  ... famrel freetime goout  Dalc  Walc  health absences MG1 MG2 MG3  \n",
      "0 ...      4        3     2     2     3       4        2   9  10  10  \n",
      "1 ...      4        3     4     1     3       3        4  11  12  11  \n",
      "2 ...      5        4     4     1     1       1        0  16  18  18  \n",
      "3 ...      3        3     2     1     1       3        0   6   7   0  \n",
      "4 ...      4        4     4     4     4       4        4  10   9   9  \n",
      "\n",
      "[5 rows x 34 columns]\n",
      "\n",
      "\n",
      "Summary statistics of training data\n",
      "       Unnamed: 0         age        Medu        Fedu  traveltime   studytime  \\\n",
      "count  276.000000  276.000000  276.000000  276.000000  276.000000  276.000000   \n",
      "mean   195.728261   16.673913    2.717391    2.478261    1.438406    2.054348   \n",
      "std    116.590045    1.333011    1.105287    1.100198    0.708270    0.835975   \n",
      "min      0.000000   15.000000    0.000000    0.000000    1.000000    1.000000   \n",
      "25%     95.750000   16.000000    2.000000    2.000000    1.000000    1.000000   \n",
      "50%    196.000000   17.000000    3.000000    2.000000    1.000000    2.000000   \n",
      "75%    300.500000   18.000000    4.000000    3.000000    2.000000    2.000000   \n",
      "max    394.000000   22.000000    4.000000    4.000000    4.000000    4.000000   \n",
      "\n",
      "         failures      famrel    freetime       goout        Dalc        Walc  \\\n",
      "count  276.000000  276.000000  276.000000  276.000000  276.000000  276.000000   \n",
      "mean     0.340580    3.949275    3.242754    3.057971    1.463768    2.217391   \n",
      "std      0.757953    0.913116    0.995874    1.093905    0.858408    1.274871   \n",
      "min      0.000000    1.000000    1.000000    1.000000    1.000000    1.000000   \n",
      "25%      0.000000    4.000000    3.000000    2.000000    1.000000    1.000000   \n",
      "50%      0.000000    4.000000    3.000000    3.000000    1.000000    2.000000   \n",
      "75%      0.000000    5.000000    4.000000    4.000000    2.000000    3.000000   \n",
      "max      3.000000    5.000000    5.000000    5.000000    5.000000    5.000000   \n",
      "\n",
      "           health    absences         MG1         MG2         MG3  \n",
      "count  276.000000  276.000000  276.000000  276.000000  276.000000  \n",
      "mean     3.474638    5.666667   10.989130   10.855072   10.500000  \n",
      "std      1.435678    8.625403    3.404258    3.776580    4.714774  \n",
      "min      1.000000    0.000000    3.000000    0.000000    0.000000  \n",
      "25%      2.000000    0.000000    8.000000    9.000000    8.000000  \n",
      "50%      4.000000    4.000000   11.000000   11.000000   11.000000  \n",
      "75%      5.000000    8.000000   14.000000   13.250000   14.000000  \n",
      "max      5.000000   75.000000   19.000000   19.000000   20.000000  \n"
     ]
    }
   ],
   "source": [
    "import numpy as np\n",
    "import pandas as pd\n",
    "from sklearn import cross_validation\n",
    "from sklearn.ensemble import RandomForestClassifier\n",
    "\n",
    "#Print you can execute arbitrary python code\n",
    "train = pd.read_csv(\"trainMath.csv\" )\n",
    "test = pd.read_csv(\"testMath.csv\")\n",
    "\n",
    "#Print to standard output, and see the results in the \"log\" section below after running your script\n",
    "print(\"\\n\\nTop of the training data:\")\n",
    "print(train.head())\n",
    "\n",
    "print(\"\\n\\nSummary statistics of training data\")\n",
    "print(train.describe())"
   ]
  },
  {
   "cell_type": "code",
   "execution_count": 3,
   "metadata": {
    "collapsed": false
   },
   "outputs": [
    {
     "data": {
      "text/plain": [
       "Index([u'Unnamed: 0', u'school', u'sex', u'age', u'address', u'famsize',\n",
       "       u'Pstatus', u'Medu', u'Fedu', u'Mjob', u'Fjob', u'reason', u'guardian',\n",
       "       u'traveltime', u'studytime', u'failures', u'schoolsup', u'famsup',\n",
       "       u'paid', u'activities', u'nursery', u'higher', u'internet', u'romantic',\n",
       "       u'famrel', u'freetime', u'goout', u'Dalc', u'Walc', u'health',\n",
       "       u'absences', u'MG1', u'MG2', u'MG3'],\n",
       "      dtype='object')"
      ]
     },
     "execution_count": 3,
     "metadata": {},
     "output_type": "execute_result"
    }
   ],
   "source": [
    "train.columns"
   ]
  },
  {
   "cell_type": "code",
   "execution_count": 4,
   "metadata": {
    "collapsed": false
   },
   "outputs": [
    {
     "name": "stdout",
     "output_type": "stream",
     "text": [
      "\n",
      "\n",
      "Train set size: (276, 34)\n",
      "\n",
      "\n",
      "Top of features:\n",
      "  school sex  age address famsize Pstatus  Medu  Fedu      Mjob      Fjob ...  \\\n",
      "0     GP   F   15       U     GT3       T     1     1     other     other ...   \n",
      "1     GP   F   19       U     GT3       T     2     1  services  services ...   \n",
      "2     GP   M   15       U     GT3       A     3     4  services     other ...   \n",
      "3     GP   F   15       U     GT3       T     3     2    health  services ...   \n",
      "4     GP   M   17       U     LE3       T     4     3   teacher     other ...   \n",
      "\n",
      "  romantic famrel  freetime  goout  Dalc Walc health absences MG1 MG2  \n",
      "0       no      4         3      2     2    3      4        2   9  10  \n",
      "1      yes      4         3      4     1    3      3        4  11  12  \n",
      "2       no      5         4      4     1    1      1        0  16  18  \n",
      "3       no      3         3      2     1    1      3        0   6   7  \n",
      "4       no      4         4      4     4    4      4        4  10   9  \n",
      "\n",
      "[5 rows x 32 columns]\n",
      "\n",
      "\n",
      "Top of labels\n",
      "0    10\n",
      "1    11\n",
      "2    18\n",
      "3     0\n",
      "4     9\n",
      "Name: MG3, dtype: int64\n"
     ]
    }
   ],
   "source": [
    "# Split train set to X(features), Y(labels)\n",
    "print(\"\\n\\nTrain set size: %s\" % (train.shape,))\n",
    "X = train.loc[:, ['school', 'sex', 'age', 'address', 'famsize', 'Pstatus', 'Medu', 'Fedu','Mjob', 'Fjob', 'reason', 'guardian', 'traveltime', 'studytime','failures', 'schoolsup', 'famsup', 'paid', 'activities', 'nursery','higher', 'internet', 'romantic', 'famrel', 'freetime', 'goout', 'Dalc','Walc', 'health', 'absences', 'MG1', 'MG2']]\n",
    "Y = train.loc[:,\"MG3\"]\n",
    "print(\"\\n\\nTop of features:\")\n",
    "print(X.head())\n",
    "print(\"\\n\\nTop of labels\")\n",
    "print(Y.head())"
   ]
  },
  {
   "cell_type": "code",
   "execution_count": 5,
   "metadata": {
    "collapsed": true
   },
   "outputs": [],
   "source": [
    "# Data Clean"
   ]
  },
  {
   "cell_type": "code",
   "execution_count": 6,
   "metadata": {
    "collapsed": true
   },
   "outputs": [],
   "source": [
    "# For Sex, convert male ->1, female -> 0\n",
    "sex_map = {\"M\":1, \"F\":0}\n",
    "X.loc[:, \"sex\"] = X.loc[:, \"sex\"].map(sex_map)"
   ]
  },
  {
   "cell_type": "code",
   "execution_count": 7,
   "metadata": {
    "collapsed": true
   },
   "outputs": [],
   "source": [
    "# For romantic, convert yes ->1, no -> 0\n",
    "romantic_map = {\"yes\":1, \"no\":0}\n",
    "X.loc[:, \"romantic\"] = X.loc[:, \"romantic\"].map(romantic_map)"
   ]
  },
  {
   "cell_type": "code",
   "execution_count": 8,
   "metadata": {
    "collapsed": true
   },
   "outputs": [],
   "source": [
    "# For internet, convert yes ->1, no -> 0\n",
    "internet_map = {\"yes\":1, \"no\":0}\n",
    "X.loc[:, \"internet\"] = X.loc[:, \"internet\"].map(internet_map)"
   ]
  },
  {
   "cell_type": "code",
   "execution_count": 9,
   "metadata": {
    "collapsed": true
   },
   "outputs": [],
   "source": [
    "# For schoolsup, convert yes ->1, no -> 0\n",
    "schoolsup_map = {\"yes\":1, \"no\":0}\n",
    "X.loc[:, \"schoolsup\"] = X.loc[:, \"schoolsup\"].map(schoolsup_map)"
   ]
  },
  {
   "cell_type": "code",
   "execution_count": 10,
   "metadata": {
    "collapsed": true
   },
   "outputs": [],
   "source": [
    "# For famsup, convert yes ->1, no -> 0\n",
    "famsup_map = {\"yes\":1, \"no\":0}\n",
    "X.loc[:, \"famsup\"] = X.loc[:, \"famsup\"].map(famsup_map)"
   ]
  },
  {
   "cell_type": "code",
   "execution_count": 11,
   "metadata": {
    "collapsed": true
   },
   "outputs": [],
   "source": [
    "# For paid, convert yes ->1, no -> 0\n",
    "paid_map = {\"yes\":1, \"no\":0}\n",
    "X.loc[:, \"paid\"] = X.loc[:, \"paid\"].map(paid_map)"
   ]
  },
  {
   "cell_type": "code",
   "execution_count": 12,
   "metadata": {
    "collapsed": true
   },
   "outputs": [],
   "source": [
    "# For activities, convert yes ->1, no -> 0\n",
    "activities_map = {\"yes\":1, \"no\":0}\n",
    "X.loc[:, \"activities\"] = X.loc[:, \"activities\"].map(activities_map)"
   ]
  },
  {
   "cell_type": "code",
   "execution_count": 13,
   "metadata": {
    "collapsed": true
   },
   "outputs": [],
   "source": [
    "# For nursery, convert yes ->1, no -> 0\n",
    "nursery_map = {\"yes\":1, \"no\":0}\n",
    "X.loc[:, \"nursery\"] = X.loc[:, \"nursery\"].map(nursery_map)"
   ]
  },
  {
   "cell_type": "code",
   "execution_count": 14,
   "metadata": {
    "collapsed": true
   },
   "outputs": [],
   "source": [
    "# For higher, convert yes ->1, no -> 0\n",
    "higher_map = {\"yes\":1, \"no\":0}\n",
    "X.loc[:, \"higher\"] = X.loc[:, \"higher\"].map(higher_map)"
   ]
  },
  {
   "cell_type": "code",
   "execution_count": 15,
   "metadata": {
    "collapsed": false
   },
   "outputs": [],
   "source": [
    "# For school, convert gp ->1, ms -> 0\n",
    "school_map = {\"GP\":1, \"MS\":0}\n",
    "X.loc[:, \"school\"] = X.loc[:, \"school\"].map(school_map)"
   ]
  },
  {
   "cell_type": "code",
   "execution_count": 16,
   "metadata": {
    "collapsed": false
   },
   "outputs": [],
   "source": [
    "# For address, convert U ->1, R -> 0\n",
    "address_map = {\"U\":1, \"R\":0}\n",
    "X.loc[:, \"address\"] = X.loc[:, \"address\"].map(address_map)"
   ]
  },
  {
   "cell_type": "code",
   "execution_count": 17,
   "metadata": {
    "collapsed": false
   },
   "outputs": [],
   "source": [
    "# For famsize, convert GT3 ->1, LE3 -> 0\n",
    "famsize_map = {\"GT3\":1, \"LE3\":0}\n",
    "X.loc[:, \"famsize\"] = X.loc[:, \"famsize\"].map(famsize_map)"
   ]
  },
  {
   "cell_type": "code",
   "execution_count": 18,
   "metadata": {
    "collapsed": false
   },
   "outputs": [],
   "source": [
    "# For Pstatus, convert T ->1, A -> 0\n",
    "Pstatus_map = {\"T\":1, \"A\":0}\n",
    "X.loc[:, \"Pstatus\"] = X.loc[:, \"Pstatus\"].map(Pstatus_map)"
   ]
  },
  {
   "cell_type": "code",
   "execution_count": 19,
   "metadata": {
    "collapsed": false
   },
   "outputs": [],
   "source": [
    "# For Mjob, convert \"teacher\" -> 1 \"health\" ->2 \"services\" ->3 \"at_home\" -> 4 \"other\" -> 5\n",
    "Mjob_map = {\"teacher\":1,\"health\":2,\"services\":3,\"at_home\":4,\"other\":5}\n",
    "X.loc[:, \"Mjob\"] = X.loc[:, \"Mjob\"].map(Mjob_map)"
   ]
  },
  {
   "cell_type": "code",
   "execution_count": 20,
   "metadata": {
    "collapsed": false
   },
   "outputs": [],
   "source": [
    "# For Fjob, convert \"teacher\" -> 1 \"health\" ->2 \"services\" ->3 \"at_home\" -> 4 \"other\" -> 5\n",
    "Fjob_map = {\"teacher\":1,\"health\":2,\"services\":3,\"at_home\":4,\"other\":5}\n",
    "X.loc[:, \"Fjob\"] = X.loc[:, \"Fjob\"].map(Fjob_map)"
   ]
  },
  {
   "cell_type": "code",
   "execution_count": 21,
   "metadata": {
    "collapsed": true
   },
   "outputs": [],
   "source": [
    "# For reason, convert \"home\" -> 1 \"reputation\" ->2 \"course\" ->3 \"other\" -> 4\n",
    "reason_map = {\"home\":1,\"reputation\":2,\"course\":3,\"other\":4}\n",
    "X.loc[:, \"reason\"] = X.loc[:, \"reason\"].map(reason_map)"
   ]
  },
  {
   "cell_type": "code",
   "execution_count": 22,
   "metadata": {
    "collapsed": true
   },
   "outputs": [],
   "source": [
    "# For guardian, convert mother ->2, father -> 1 other -> 0\n",
    "guardian_map = {\"mother\":2, \"father\":1, \"other\":0}\n",
    "X.loc[:, \"guardian\"] = X.loc[:, \"guardian\"].map(guardian_map)"
   ]
  },
  {
   "cell_type": "code",
   "execution_count": 23,
   "metadata": {
    "collapsed": true
   },
   "outputs": [],
   "source": [
    "X.to_csv('view.csv', sep=',')"
   ]
  },
  {
   "cell_type": "code",
   "execution_count": null,
   "metadata": {
    "collapsed": true
   },
   "outputs": [],
   "source": []
  },
  {
   "cell_type": "code",
   "execution_count": 24,
   "metadata": {
    "collapsed": false
   },
   "outputs": [
    {
     "name": "stderr",
     "output_type": "stream",
     "text": [
      "C:\\Users\\Mukesh  Yadav\\Anaconda2\\lib\\site-packages\\sklearn\\cross_validation.py:552: Warning: The least populated class in y has only 1 members, which is too few. The minimum number of labels for any class cannot be less than n_folds=8.\n",
      "  % (min_labels, self.n_folds)), Warning)\n"
     ]
    },
    {
     "name": "stdout",
     "output_type": "stream",
     "text": [
      "RandomForese Accuracy: 0.44 (+/- 0.20)\n"
     ]
    }
   ],
   "source": [
    "# Train classifier Random Forest\n",
    "#clf = RandomForestClassifier(n_estimators=int(X.shape[1] / 2))\n",
    "clf = RandomForestClassifier(n_estimators=100)\n",
    "scores = cross_validation.cross_val_score(clf, X, Y, cv=8)\n",
    "print(\"RandomForese Accuracy: %0.2f (+/- %0.2f)\" % (scores.mean(), scores.std() * 2))\n",
    "clf = clf.fit(X, Y)\n"
   ]
  },
  {
   "cell_type": "code",
   "execution_count": 25,
   "metadata": {
    "collapsed": false
   },
   "outputs": [
    {
     "name": "stdout",
     "output_type": "stream",
     "text": [
      "[ 0.00738137  0.01739856  0.04301956  0.01438311  0.01951461  0.00948648\n",
      "  0.0334364   0.03016016  0.03567307  0.03102888  0.03040742  0.01932419\n",
      "  0.01944131  0.02942194  0.01784474  0.01143264  0.01491371  0.01798868\n",
      "  0.02068174  0.01474936  0.00453828  0.01134292  0.01843133  0.03347721\n",
      "  0.03197995  0.03585181  0.02109227  0.03788547  0.0360453   0.07233303\n",
      "  0.09903057  0.16030393]\n"
     ]
    }
   ],
   "source": [
    "# Features selecting\n",
    "print(clf.feature_importances_)"
   ]
  },
  {
   "cell_type": "code",
   "execution_count": 26,
   "metadata": {
    "collapsed": false
   },
   "outputs": [
    {
     "data": {
      "text/plain": [
       "Index([u'school', u'sex', u'age', u'address', u'famsize', u'Pstatus', u'Medu',\n",
       "       u'Fedu', u'Mjob', u'Fjob', u'reason', u'guardian', u'traveltime',\n",
       "       u'studytime', u'failures', u'schoolsup', u'famsup', u'paid',\n",
       "       u'activities', u'nursery', u'higher', u'internet', u'romantic',\n",
       "       u'famrel', u'freetime', u'goout', u'Dalc', u'Walc', u'health',\n",
       "       u'absences', u'MG1', u'MG2'],\n",
       "      dtype='object')"
      ]
     },
     "execution_count": 26,
     "metadata": {},
     "output_type": "execute_result"
    }
   ],
   "source": [
    "X.columns"
   ]
  },
  {
   "cell_type": "code",
   "execution_count": 27,
   "metadata": {
    "collapsed": true
   },
   "outputs": [],
   "source": [
    "#using SVM\n",
    "from sklearn import svm"
   ]
  },
  {
   "cell_type": "code",
   "execution_count": 28,
   "metadata": {
    "collapsed": false
   },
   "outputs": [
    {
     "data": {
      "text/plain": [
       "SVC(C=1.0, cache_size=200, class_weight=None, coef0=0.0,\n",
       "  decision_function_shape=None, degree=3, gamma='auto', kernel='rbf',\n",
       "  max_iter=-1, probability=False, random_state=None, shrinking=True,\n",
       "  tol=0.001, verbose=False)"
      ]
     },
     "execution_count": 28,
     "metadata": {},
     "output_type": "execute_result"
    }
   ],
   "source": [
    "clfsvm = svm.SVC()\n",
    "clfsvm.fit(X, Y) "
   ]
  },
  {
   "cell_type": "code",
   "execution_count": 29,
   "metadata": {
    "collapsed": false
   },
   "outputs": [
    {
     "name": "stdout",
     "output_type": "stream",
     "text": [
      "svm Accuracy: 0.43 (+/- 0.17)\n"
     ]
    }
   ],
   "source": [
    "scores = cross_validation.cross_val_score(clfsvm, X, Y, cv=8)\n",
    "print(\"svm Accuracy: %0.2f (+/- %0.2f)\" % (scores.mean(), scores.std() * 2))"
   ]
  },
  {
   "cell_type": "code",
   "execution_count": 30,
   "metadata": {
    "collapsed": false
   },
   "outputs": [
    {
     "name": "stdout",
     "output_type": "stream",
     "text": [
      "\n",
      "\n",
      "Test set size: (119, 34)\n"
     ]
    }
   ],
   "source": [
    "# Split train set to X(features), Y(labels)\n",
    "print(\"\\n\\nTest set size: %s\" % (test.shape,))\n",
    "toPredictTestSet = test.loc[:, ['school', 'sex', 'age', 'address', 'famsize', 'Pstatus', 'Medu', 'Fedu','Mjob', 'Fjob', 'reason', 'guardian', 'traveltime', 'studytime','failures', 'schoolsup', 'famsup', 'paid', 'activities', 'nursery','higher', 'internet', 'romantic', 'famrel', 'freetime', 'goout', 'Dalc','Walc', 'health', 'absences', 'MG1', 'MG2']]\n",
    "\n",
    "# For Sex, convert male ->1, female -> 0\n",
    "sex_map = {\"M\":1, \"F\":0}\n",
    "toPredictTestSet.loc[:, \"sex\"] = toPredictTestSet.loc[:, \"sex\"].map(sex_map)\n",
    "\n",
    "# For romantic, convert yes ->1, no -> 0\n",
    "romantic_map = {\"yes\":1, \"no\":0}\n",
    "toPredictTestSet.loc[:, \"romantic\"] = toPredictTestSet.loc[:, \"romantic\"].map(romantic_map)\n",
    "\n",
    "# For internet, convert yes ->1, no -> 0\n",
    "internet_map = {\"yes\":1, \"no\":0}\n",
    "toPredictTestSet.loc[:, \"internet\"] = toPredictTestSet.loc[:, \"internet\"].map(internet_map)\n",
    "\n",
    "# For schoolsup, convert yes ->1, no -> 0\n",
    "schoolsup_map = {\"yes\":1, \"no\":0}\n",
    "toPredictTestSet.loc[:, \"schoolsup\"] = toPredictTestSet.loc[:, \"schoolsup\"].map(schoolsup_map)\n",
    "\n",
    "\n",
    "# For famsup, convert yes ->1, no -> 0\n",
    "famsup_map = {\"yes\":1, \"no\":0}\n",
    "toPredictTestSet.loc[:, \"famsup\"] = toPredictTestSet.loc[:, \"famsup\"].map(famsup_map)\n",
    "\n",
    "# For paid, convert yes ->1, no -> 0\n",
    "paid_map = {\"yes\":1, \"no\":0}\n",
    "toPredictTestSet.loc[:, \"paid\"] = toPredictTestSet.loc[:, \"paid\"].map(paid_map)\n",
    "\n",
    "# For activities, convert yes ->1, no -> 0\n",
    "activities_map = {\"yes\":1, \"no\":0}\n",
    "toPredictTestSet.loc[:, \"activities\"] = toPredictTestSet.loc[:, \"activities\"].map(activities_map)\n",
    "\n",
    "# For nursery, convert yes ->1, no -> 0\n",
    "nursery_map = {\"yes\":1, \"no\":0}\n",
    "toPredictTestSet.loc[:, \"nursery\"] = toPredictTestSet.loc[:, \"nursery\"].map(nursery_map)\n",
    "\n",
    "# For higher, convert yes ->1, no -> 0\n",
    "higher_map = {\"yes\":1, \"no\":0}\n",
    "toPredictTestSet.loc[:, \"higher\"] = toPredictTestSet.loc[:, \"higher\"].map(higher_map)\n",
    "\n",
    "# For school, convert gp ->1, ms -> 0\n",
    "school_map = {\"GP\":1, \"MS\":0}\n",
    "toPredictTestSet.loc[:, \"school\"] = toPredictTestSet.loc[:, \"school\"].map(school_map)\n",
    "\n",
    "# For address, convert U ->1, R -> 0\n",
    "address_map = {\"U\":1, \"R\":0}\n",
    "toPredictTestSet.loc[:, \"address\"] = toPredictTestSet.loc[:, \"address\"].map(address_map)\n",
    "\n",
    "# For famsize, convert GT3 ->1, LE3 -> 0\n",
    "famsize_map = {\"GT3\":1, \"LE3\":0}\n",
    "toPredictTestSet.loc[:, \"famsize\"] = toPredictTestSet.loc[:, \"famsize\"].map(famsize_map)\n",
    "\n",
    "\n",
    "# For Pstatus, convert T ->1, A -> 0\n",
    "Pstatus_map = {\"T\":1, \"A\":0}\n",
    "toPredictTestSet.loc[:, \"Pstatus\"] = toPredictTestSet.loc[:, \"Pstatus\"].map(Pstatus_map)\n",
    "\n",
    "# For Mjob, convert \"teacher\" -> 1 \"health\" ->2 \"services\" ->3 \"at_home\" -> 4 \"other\" -> 5\n",
    "Mjob_map = {\"teacher\":1,\"health\":2,\"services\":3,\"at_home\":4,\"other\":5}\n",
    "toPredictTestSet.loc[:, \"Mjob\"] = toPredictTestSet.loc[:, \"Mjob\"].map(Mjob_map)\n",
    "\n",
    "# For Fjob, convert \"teacher\" -> 1 \"health\" ->2 \"services\" ->3 \"at_home\" -> 4 \"other\" -> 5\n",
    "Fjob_map = {\"teacher\":1,\"health\":2,\"services\":3,\"at_home\":4,\"other\":5}\n",
    "toPredictTestSet.loc[:, \"Fjob\"] = toPredictTestSet.loc[:, \"Fjob\"].map(Fjob_map)\n",
    "\n",
    "# For reason, convert \"home\" -> 1 \"reputation\" ->2 \"course\" ->3 \"other\" -> 4\n",
    "reason_map = {\"home\":1,\"reputation\":2,\"course\":3,\"other\":4}\n",
    "toPredictTestSet.loc[:, \"reason\"] = toPredictTestSet.loc[:, \"reason\"].map(reason_map)\n",
    "\n",
    "# For guardian, convert mother ->2, father -> 1 other -> 0\n",
    "guardian_map = {\"mother\":2, \"father\":1, \"other\":0}\n",
    "toPredictTestSet.loc[:, \"guardian\"] = toPredictTestSet.loc[:, \"guardian\"].map(guardian_map)\n",
    "\n",
    "toPredictTestSet.to_csv('testView.csv', sep=',')\n"
   ]
  },
  {
   "cell_type": "code",
   "execution_count": null,
   "metadata": {
    "collapsed": true
   },
   "outputs": [],
   "source": []
  },
  {
   "cell_type": "code",
   "execution_count": 31,
   "metadata": {
    "collapsed": false
   },
   "outputs": [],
   "source": [
    "result = clf.predict(toPredictTestSet)"
   ]
  },
  {
   "cell_type": "code",
   "execution_count": 32,
   "metadata": {
    "collapsed": false
   },
   "outputs": [
    {
     "data": {
      "text/plain": [
       "array([10, 11, 12, 15, 15, 11, 10, 11,  0, 10, 14,  0, 13, 11, 15, 14, 13,\n",
       "       10, 10, 11, 15,  0,  6, 13,  0, 15, 14,  0, 15, 10, 15, 14, 16,  8,\n",
       "       11, 10, 15, 11, 10, 11, 15, 10,  0,  0, 10, 14, 11, 15, 10,  9, 11,\n",
       "       11, 11,  7, 13, 12,  6,  0, 10, 15, 14, 11,  0, 10, 13, 10, 18, 10,\n",
       "       11,  6, 14, 10, 13,  0, 10, 11, 13,  8, 14, 12, 10, 10, 10, 10, 11,\n",
       "        6, 15,  0, 10, 10, 11, 10, 10, 15, 11,  8, 12, 11, 14, 14,  8, 12,\n",
       "       10, 15,  0, 10, 10, 10, 11,  8, 13,  8,  8,  0, 10,  9,  0, 10, 13], dtype=int64)"
      ]
     },
     "execution_count": 32,
     "metadata": {},
     "output_type": "execute_result"
    }
   ],
   "source": [
    "result"
   ]
  },
  {
   "cell_type": "code",
   "execution_count": 33,
   "metadata": {
    "collapsed": false
   },
   "outputs": [],
   "source": [
    "prediction = pd.DataFrame({\"school\":test.loc[:,\"school\"],\"sex\":test.loc[:,\"sex\"],\"age\":test.loc[:,\"age\"],\"address\":test.loc[:,\"address\"], \"famsize\":test.loc[:,\"famsize\"],\"Pstatus\":test.loc[:,\"Pstatus\"],\"Medu\":test.loc[:,\"Medu\"],\"Fedu\":test.loc[:,\"Fedu\"],\"Mjob\":test.loc[:,\"Mjob\"],\"Fjob\":test.loc[:,\"Fjob\"],\"reason\":test.loc[:,\"reason\"],\"guardian\":test.loc[:,\"guardian\"], \"traveltime\":test.loc[:,\"traveltime\"],\"studytime\":test.loc[:,\"studytime\"],\"failures\":test.loc[:,\"failures\"], \"schoolsup\":test.loc[:,\"schoolsup\"], \"famsup\":test.loc[:,\"famsup\"], \"paid\":test.loc[:,\"paid\"], \"activities\":test.loc[:,\"activities\"],\"nursery\":test.loc[:,\"nursery\"],\"higher\":test.loc[:,\"higher\"], \"internet\":test.loc[:,\"internet\"],\"romantic\":test.loc[:,\"romantic\"], \"famrel\":test.loc[:,\"famrel\"], \"freetime\":test.loc[:,\"freetime\"],\"goout\":test.loc[:,\"goout\"], \"Dalc\":test.loc[:,\"Dalc\"],\"Walc\":test.loc[:,\"Walc\"], \"health\":test.loc[:,\"health\"], \"MG1\":test.loc[:,\"MG1\"], \"MG2\":test.loc[:,\"MG2\"],\"predictedMarks\": result})\n",
    "prediction.to_csv('result2.csv', index=False)"
   ]
  },
  {
   "cell_type": "code",
   "execution_count": 35,
   "metadata": {
    "collapsed": false
   },
   "outputs": [
    {
     "data": {
      "text/plain": [
       "0.38655462184873951"
      ]
     },
     "execution_count": 35,
     "metadata": {},
     "output_type": "execute_result"
    }
   ],
   "source": [
    "from sklearn.metrics import accuracy_score\n",
    "y_true = test.loc[:,\"MG3\"]\n",
    "accuracy_score(y_true, result)"
   ]
  },
  {
   "cell_type": "code",
   "execution_count": 38,
   "metadata": {
    "collapsed": false
   },
   "outputs": [
    {
     "data": {
      "text/plain": [
       "0.30911418330773172"
      ]
     },
     "execution_count": 38,
     "metadata": {},
     "output_type": "execute_result"
    }
   ],
   "source": [
    "from sklearn.metrics import precision_score\n",
    "precision_score(y_true, result, average='macro')"
   ]
  },
  {
   "cell_type": "code",
   "execution_count": null,
   "metadata": {
    "collapsed": true
   },
   "outputs": [],
   "source": []
  }
 ],
 "metadata": {
  "anaconda-cloud": {},
  "kernelspec": {
   "display_name": "Python [conda root]",
   "language": "python",
   "name": "conda-root-py"
  },
  "language_info": {
   "codemirror_mode": {
    "name": "ipython",
    "version": 2
   },
   "file_extension": ".py",
   "mimetype": "text/x-python",
   "name": "python",
   "nbconvert_exporter": "python",
   "pygments_lexer": "ipython2",
   "version": "2.7.12"
  }
 },
 "nbformat": 4,
 "nbformat_minor": 1
}
