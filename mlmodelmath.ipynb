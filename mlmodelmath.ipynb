{
 "cells": [
  {
   "cell_type": "code",
   "execution_count": 33,
   "metadata": {
    "collapsed": false
   },
   "outputs": [
    {
     "name": "stdout",
     "output_type": "stream",
     "text": [
      "/home/dhiraj/vishwanektanDataScience/projrctG/student\n"
     ]
    }
   ],
   "source": [
    "cd /home/dhiraj/vishwanektanDataScience/projrctG/student"
   ]
  },
  {
   "cell_type": "code",
   "execution_count": 34,
   "metadata": {
    "collapsed": false
   },
   "outputs": [
    {
     "name": "stdout",
     "output_type": "stream",
     "text": [
      "\n",
      "\n",
      "Top of the training data:\n",
      "  school sex  age address famsize Pstatus  Medu  Fedu     Mjob    Fjob ...  \\\n",
      "0     GP   F   16       U     GT3       T     4     3  teacher   other ...   \n",
      "1     GP   M   15       U     GT3       T     4     4  teacher  health ...   \n",
      "2     GP   M   16       U     LE3       T     2     1  at_home   other ...   \n",
      "3     GP   M   16       U     LE3       T     4     3   health   other ...   \n",
      "4     GP   F   19       U     GT3       T     1     1  at_home  health ...   \n",
      "\n",
      "  famrel freetime  goout  Dalc  Walc health absences MG1 MG2 MG3  \n",
      "0      1        3      2     1     1      1       10  11  12  13  \n",
      "1      3        2      2     1     1      5        4  14  15  15  \n",
      "2      4        4      4     3     5      5        6  12  13  14  \n",
      "3      3        1      3     1     3      5        4   8  10  10  \n",
      "4      4        1      2     1     1      3       14  15  13  13  \n",
      "\n",
      "[5 rows x 33 columns]\n",
      "\n",
      "\n",
      "Summary statistics of training data\n",
      "              age        Medu        Fedu  traveltime   studytime    failures  \\\n",
      "count  276.000000  276.000000  276.000000  276.000000  276.000000  276.000000   \n",
      "mean    16.699275    2.731884    2.536232    1.442029    2.076087    0.318841   \n",
      "std      1.334902    1.095710    1.076421    0.666258    0.847246    0.708242   \n",
      "min     15.000000    0.000000    0.000000    1.000000    1.000000    0.000000   \n",
      "25%     16.000000    2.000000    2.000000    1.000000    1.750000    0.000000   \n",
      "50%     17.000000    3.000000    3.000000    1.000000    2.000000    0.000000   \n",
      "75%     18.000000    4.000000    3.000000    2.000000    3.000000    0.000000   \n",
      "max     22.000000    4.000000    4.000000    4.000000    4.000000    3.000000   \n",
      "\n",
      "           famrel    freetime       goout        Dalc        Walc      health  \\\n",
      "count  276.000000  276.000000  276.000000  276.000000  276.000000  276.000000   \n",
      "mean     3.931159    3.257246    3.065217    1.471014    2.268116    3.583333   \n",
      "std      0.873222    0.988544    1.096815    0.862909    1.279431    1.418172   \n",
      "min      1.000000    1.000000    1.000000    1.000000    1.000000    1.000000   \n",
      "25%      4.000000    3.000000    2.000000    1.000000    1.000000    3.000000   \n",
      "50%      4.000000    3.000000    3.000000    1.000000    2.000000    4.000000   \n",
      "75%      5.000000    4.000000    4.000000    2.000000    3.000000    5.000000   \n",
      "max      5.000000    5.000000    5.000000    5.000000    5.000000    5.000000   \n",
      "\n",
      "         absences         MG1         MG2         MG3  \n",
      "count  276.000000  276.000000  276.000000  276.000000  \n",
      "mean     5.615942   10.840580   10.684783   10.431159  \n",
      "std      8.074492    3.257989    3.844040    4.528573  \n",
      "min      0.000000    3.000000    0.000000    0.000000  \n",
      "25%      0.000000    8.000000    9.000000    8.000000  \n",
      "50%      4.000000   10.500000   11.000000   11.000000  \n",
      "75%      8.000000   13.000000   13.000000   14.000000  \n",
      "max     75.000000   19.000000   19.000000   19.000000  \n"
     ]
    }
   ],
   "source": [
    "import numpy as np\n",
    "import pandas as pd\n",
    "from sklearn import cross_validation\n",
    "from sklearn.ensemble import RandomForestClassifier\n",
    "\n",
    "#Print you can execute arbitrary python code\n",
    "train = pd.read_csv(\"trainMath.csv\" )\n",
    "test = pd.read_csv(\"testMath.csv\")\n",
    "\n",
    "#Print to standard output, and see the results in the \"log\" section below after running your script\n",
    "print(\"\\n\\nTop of the training data:\")\n",
    "print(train.head())\n",
    "\n",
    "print(\"\\n\\nSummary statistics of training data\")\n",
    "print(train.describe())"
   ]
  },
  {
   "cell_type": "code",
   "execution_count": 35,
   "metadata": {
    "collapsed": false
   },
   "outputs": [
    {
     "data": {
      "text/plain": [
       "Index(['school', 'sex', 'age', 'address', 'famsize', 'Pstatus', 'Medu', 'Fedu',\n",
       "       'Mjob', 'Fjob', 'reason', 'guardian', 'traveltime', 'studytime',\n",
       "       'failures', 'schoolsup', 'famsup', 'paid', 'activities', 'nursery',\n",
       "       'higher', 'internet', 'romantic', 'famrel', 'freetime', 'goout', 'Dalc',\n",
       "       'Walc', 'health', 'absences', 'MG1', 'MG2', 'MG3'],\n",
       "      dtype='object')"
      ]
     },
     "execution_count": 35,
     "metadata": {},
     "output_type": "execute_result"
    }
   ],
   "source": [
    "train.columns"
   ]
  },
  {
   "cell_type": "code",
   "execution_count": 36,
   "metadata": {
    "collapsed": false
   },
   "outputs": [
    {
     "name": "stdout",
     "output_type": "stream",
     "text": [
      "\n",
      "\n",
      "Train set size: (276, 33)\n",
      "\n",
      "\n",
      "Top of features:\n",
      "  school sex  age address famsize Pstatus  Medu  Fedu     Mjob    Fjob ...  \\\n",
      "0     GP   F   16       U     GT3       T     4     3  teacher   other ...   \n",
      "1     GP   M   15       U     GT3       T     4     4  teacher  health ...   \n",
      "2     GP   M   16       U     LE3       T     2     1  at_home   other ...   \n",
      "3     GP   M   16       U     LE3       T     4     3   health   other ...   \n",
      "4     GP   F   19       U     GT3       T     1     1  at_home  health ...   \n",
      "\n",
      "  romantic famrel  freetime  goout  Dalc Walc health absences MG1 MG2  \n",
      "0      yes      1         3      2     1    1      1       10  11  12  \n",
      "1       no      3         2      2     1    1      5        4  14  15  \n",
      "2      yes      4         4      4     3    5      5        6  12  13  \n",
      "3       no      3         1      3     1    3      5        4   8  10  \n",
      "4      yes      4         1      2     1    1      3       14  15  13  \n",
      "\n",
      "[5 rows x 32 columns]\n",
      "\n",
      "\n",
      "Top of labels\n",
      "0    13\n",
      "1    15\n",
      "2    14\n",
      "3    10\n",
      "4    13\n",
      "Name: MG3, dtype: int64\n"
     ]
    }
   ],
   "source": [
    "# Split train set to X(features), Y(labels)\n",
    "print(\"\\n\\nTrain set size: %s\" % (train.shape,))\n",
    "X = train.loc[:, ['school', 'sex', 'age', 'address', 'famsize', 'Pstatus', 'Medu', 'Fedu','Mjob', 'Fjob', 'reason', 'guardian', 'traveltime', 'studytime','failures', 'schoolsup', 'famsup', 'paid', 'activities', 'nursery','higher', 'internet', 'romantic', 'famrel', 'freetime', 'goout', 'Dalc','Walc', 'health', 'absences', 'MG1', 'MG2']]\n",
    "Y = train.loc[:,\"MG3\"]\n",
    "print(\"\\n\\nTop of features:\")\n",
    "print(X.head())\n",
    "print(\"\\n\\nTop of labels\")\n",
    "print(Y.head())"
   ]
  },
  {
   "cell_type": "code",
   "execution_count": 37,
   "metadata": {
    "collapsed": true
   },
   "outputs": [],
   "source": [
    "# Data Clean"
   ]
  },
  {
   "cell_type": "code",
   "execution_count": 38,
   "metadata": {
    "collapsed": true
   },
   "outputs": [],
   "source": [
    "# For Sex, convert male ->1, female -> 0\n",
    "sex_map = {\"M\":1, \"F\":0}\n",
    "X.loc[:, \"sex\"] = X.loc[:, \"sex\"].map(sex_map)"
   ]
  },
  {
   "cell_type": "code",
   "execution_count": 39,
   "metadata": {
    "collapsed": true
   },
   "outputs": [],
   "source": [
    "# For romantic, convert yes ->1, no -> 0\n",
    "romantic_map = {\"yes\":1, \"no\":0}\n",
    "X.loc[:, \"romantic\"] = X.loc[:, \"romantic\"].map(romantic_map)"
   ]
  },
  {
   "cell_type": "code",
   "execution_count": 40,
   "metadata": {
    "collapsed": true
   },
   "outputs": [],
   "source": [
    "# For internet, convert yes ->1, no -> 0\n",
    "internet_map = {\"yes\":1, \"no\":0}\n",
    "X.loc[:, \"internet\"] = X.loc[:, \"internet\"].map(internet_map)"
   ]
  },
  {
   "cell_type": "code",
   "execution_count": 41,
   "metadata": {
    "collapsed": true
   },
   "outputs": [],
   "source": [
    "# For schoolsup, convert yes ->1, no -> 0\n",
    "schoolsup_map = {\"yes\":1, \"no\":0}\n",
    "X.loc[:, \"schoolsup\"] = X.loc[:, \"schoolsup\"].map(schoolsup_map)"
   ]
  },
  {
   "cell_type": "code",
   "execution_count": 42,
   "metadata": {
    "collapsed": true
   },
   "outputs": [],
   "source": [
    "# For famsup, convert yes ->1, no -> 0\n",
    "famsup_map = {\"yes\":1, \"no\":0}\n",
    "X.loc[:, \"famsup\"] = X.loc[:, \"famsup\"].map(famsup_map)"
   ]
  },
  {
   "cell_type": "code",
   "execution_count": 43,
   "metadata": {
    "collapsed": true
   },
   "outputs": [],
   "source": [
    "# For paid, convert yes ->1, no -> 0\n",
    "paid_map = {\"yes\":1, \"no\":0}\n",
    "X.loc[:, \"paid\"] = X.loc[:, \"paid\"].map(paid_map)"
   ]
  },
  {
   "cell_type": "code",
   "execution_count": 44,
   "metadata": {
    "collapsed": true
   },
   "outputs": [],
   "source": [
    "# For activities, convert yes ->1, no -> 0\n",
    "activities_map = {\"yes\":1, \"no\":0}\n",
    "X.loc[:, \"activities\"] = X.loc[:, \"activities\"].map(activities_map)"
   ]
  },
  {
   "cell_type": "code",
   "execution_count": 45,
   "metadata": {
    "collapsed": true
   },
   "outputs": [],
   "source": [
    "# For nursery, convert yes ->1, no -> 0\n",
    "nursery_map = {\"yes\":1, \"no\":0}\n",
    "X.loc[:, \"nursery\"] = X.loc[:, \"nursery\"].map(nursery_map)"
   ]
  },
  {
   "cell_type": "code",
   "execution_count": 46,
   "metadata": {
    "collapsed": true
   },
   "outputs": [],
   "source": [
    "# For higher, convert yes ->1, no -> 0\n",
    "higher_map = {\"yes\":1, \"no\":0}\n",
    "X.loc[:, \"higher\"] = X.loc[:, \"higher\"].map(higher_map)"
   ]
  },
  {
   "cell_type": "code",
   "execution_count": 47,
   "metadata": {
    "collapsed": false
   },
   "outputs": [],
   "source": [
    "# For school, convert gp ->1, ms -> 0\n",
    "school_map = {\"GP\":1, \"MS\":0}\n",
    "X.loc[:, \"school\"] = X.loc[:, \"school\"].map(school_map)"
   ]
  },
  {
   "cell_type": "code",
   "execution_count": 48,
   "metadata": {
    "collapsed": false
   },
   "outputs": [],
   "source": [
    "# For address, convert U ->1, R -> 0\n",
    "address_map = {\"U\":1, \"R\":0}\n",
    "X.loc[:, \"address\"] = X.loc[:, \"address\"].map(address_map)"
   ]
  },
  {
   "cell_type": "code",
   "execution_count": 49,
   "metadata": {
    "collapsed": false
   },
   "outputs": [],
   "source": [
    "# For famsize, convert GT3 ->1, LE3 -> 0\n",
    "famsize_map = {\"GT3\":1, \"LE3\":0}\n",
    "X.loc[:, \"famsize\"] = X.loc[:, \"famsize\"].map(famsize_map)"
   ]
  },
  {
   "cell_type": "code",
   "execution_count": 50,
   "metadata": {
    "collapsed": false
   },
   "outputs": [],
   "source": [
    "# For Pstatus, convert T ->1, A -> 0\n",
    "Pstatus_map = {\"T\":1, \"A\":0}\n",
    "X.loc[:, \"Pstatus\"] = X.loc[:, \"Pstatus\"].map(Pstatus_map)"
   ]
  },
  {
   "cell_type": "code",
   "execution_count": 51,
   "metadata": {
    "collapsed": false
   },
   "outputs": [],
   "source": [
    "# For Mjob, convert \"teacher\" -> 1 \"health\" ->2 \"services\" ->3 \"at_home\" -> 4 \"other\" -> 5\n",
    "Mjob_map = {\"teacher\":1,\"health\":2,\"services\":3,\"at_home\":4,\"other\":5}\n",
    "X.loc[:, \"Mjob\"] = X.loc[:, \"Mjob\"].map(Mjob_map)"
   ]
  },
  {
   "cell_type": "code",
   "execution_count": 52,
   "metadata": {
    "collapsed": false
   },
   "outputs": [],
   "source": [
    "# For Fjob, convert \"teacher\" -> 1 \"health\" ->2 \"services\" ->3 \"at_home\" -> 4 \"other\" -> 5\n",
    "Fjob_map = {\"teacher\":1,\"health\":2,\"services\":3,\"at_home\":4,\"other\":5}\n",
    "X.loc[:, \"Fjob\"] = X.loc[:, \"Fjob\"].map(Fjob_map)"
   ]
  },
  {
   "cell_type": "code",
   "execution_count": 53,
   "metadata": {
    "collapsed": true
   },
   "outputs": [],
   "source": [
    "# For reason, convert \"home\" -> 1 \"reputation\" ->2 \"course\" ->3 \"other\" -> 4\n",
    "reason_map = {\"home\":1,\"reputation\":2,\"course\":3,\"other\":4}\n",
    "X.loc[:, \"reason\"] = X.loc[:, \"reason\"].map(reason_map)"
   ]
  },
  {
   "cell_type": "code",
   "execution_count": 54,
   "metadata": {
    "collapsed": true
   },
   "outputs": [],
   "source": [
    "# For guardian, convert mother ->2, father -> 1 other -> 0\n",
    "guardian_map = {\"mother\":2, \"father\":1, \"other\":0}\n",
    "X.loc[:, \"guardian\"] = X.loc[:, \"guardian\"].map(guardian_map)"
   ]
  },
  {
   "cell_type": "code",
   "execution_count": 55,
   "metadata": {
    "collapsed": true
   },
   "outputs": [],
   "source": [
    "X.to_csv('view.csv', sep=',')"
   ]
  },
  {
   "cell_type": "code",
   "execution_count": null,
   "metadata": {
    "collapsed": true
   },
   "outputs": [],
   "source": []
  },
  {
   "cell_type": "code",
   "execution_count": 56,
   "metadata": {
    "collapsed": false
   },
   "outputs": [
    {
     "name": "stderr",
     "output_type": "stream",
     "text": [
      "/home/dhiraj/anaconda3/lib/python3.5/site-packages/sklearn/cross_validation.py:552: Warning: The least populated class in y has only 1 members, which is too few. The minimum number of labels for any class cannot be less than n_folds=8.\n",
      "  % (min_labels, self.n_folds)), Warning)\n"
     ]
    },
    {
     "name": "stdout",
     "output_type": "stream",
     "text": [
      "RandomForese Accuracy: 0.44 (+/- 0.17)\n"
     ]
    }
   ],
   "source": [
    "# Train classifier Random Forest\n",
    "#clf = RandomForestClassifier(n_estimators=int(X.shape[1] / 2))\n",
    "clf = RandomForestClassifier(n_estimators=100)\n",
    "scores = cross_validation.cross_val_score(clf, X, Y, cv=8)\n",
    "print(\"RandomForese Accuracy: %0.2f (+/- %0.2f)\" % (scores.mean(), scores.std() * 2))\n",
    "clf = clf.fit(X, Y)\n"
   ]
  },
  {
   "cell_type": "code",
   "execution_count": 57,
   "metadata": {
    "collapsed": false
   },
   "outputs": [
    {
     "name": "stdout",
     "output_type": "stream",
     "text": [
      "[ 0.01014124  0.01648865  0.0383643   0.01476123  0.0162126   0.01044962\n",
      "  0.029588    0.03601281  0.03623267  0.02888235  0.03387431  0.01758164\n",
      "  0.02186644  0.02661393  0.01721267  0.01015566  0.01585848  0.01944918\n",
      "  0.01603126  0.01280054  0.00505655  0.01364426  0.01796603  0.03057214\n",
      "  0.03480795  0.03607113  0.02235009  0.0357787   0.03809057  0.0669914\n",
      "  0.1028262   0.16726743]\n"
     ]
    }
   ],
   "source": [
    "# Features selecting\n",
    "print(clf.feature_importances_)"
   ]
  },
  {
   "cell_type": "code",
   "execution_count": 58,
   "metadata": {
    "collapsed": false
   },
   "outputs": [
    {
     "data": {
      "text/plain": [
       "Index(['school', 'sex', 'age', 'address', 'famsize', 'Pstatus', 'Medu', 'Fedu',\n",
       "       'Mjob', 'Fjob', 'reason', 'guardian', 'traveltime', 'studytime',\n",
       "       'failures', 'schoolsup', 'famsup', 'paid', 'activities', 'nursery',\n",
       "       'higher', 'internet', 'romantic', 'famrel', 'freetime', 'goout', 'Dalc',\n",
       "       'Walc', 'health', 'absences', 'MG1', 'MG2'],\n",
       "      dtype='object')"
      ]
     },
     "execution_count": 58,
     "metadata": {},
     "output_type": "execute_result"
    }
   ],
   "source": [
    "X.columns"
   ]
  },
  {
   "cell_type": "code",
   "execution_count": 59,
   "metadata": {
    "collapsed": true
   },
   "outputs": [],
   "source": [
    "#using SVM\n",
    "from sklearn import svm"
   ]
  },
  {
   "cell_type": "code",
   "execution_count": 60,
   "metadata": {
    "collapsed": false
   },
   "outputs": [
    {
     "data": {
      "text/plain": [
       "SVC(C=1.0, cache_size=200, class_weight=None, coef0=0.0,\n",
       "  decision_function_shape=None, degree=3, gamma='auto', kernel='rbf',\n",
       "  max_iter=-1, probability=False, random_state=None, shrinking=True,\n",
       "  tol=0.001, verbose=False)"
      ]
     },
     "execution_count": 60,
     "metadata": {},
     "output_type": "execute_result"
    }
   ],
   "source": [
    "clfsvm = svm.SVC()\n",
    "clfsvm.fit(X, Y) "
   ]
  },
  {
   "cell_type": "code",
   "execution_count": 61,
   "metadata": {
    "collapsed": false
   },
   "outputs": [
    {
     "name": "stdout",
     "output_type": "stream",
     "text": [
      "svm Accuracy: 0.34 (+/- 0.11)\n"
     ]
    },
    {
     "name": "stderr",
     "output_type": "stream",
     "text": [
      "/home/dhiraj/anaconda3/lib/python3.5/site-packages/sklearn/cross_validation.py:552: Warning: The least populated class in y has only 1 members, which is too few. The minimum number of labels for any class cannot be less than n_folds=8.\n",
      "  % (min_labels, self.n_folds)), Warning)\n"
     ]
    }
   ],
   "source": [
    "scores = cross_validation.cross_val_score(clfsvm, X, Y, cv=8)\n",
    "print(\"svm Accuracy: %0.2f (+/- %0.2f)\" % (scores.mean(), scores.std() * 2))"
   ]
  },
  {
   "cell_type": "code",
   "execution_count": 62,
   "metadata": {
    "collapsed": false
   },
   "outputs": [
    {
     "name": "stdout",
     "output_type": "stream",
     "text": [
      "\n",
      "\n",
      "Test set size: (119, 33)\n"
     ]
    }
   ],
   "source": [
    "# Split train set to X(features), Y(labels)\n",
    "print(\"\\n\\nTest set size: %s\" % (test.shape,))\n",
    "toPredictTestSet = test.loc[:, ['school', 'sex', 'age', 'address', 'famsize', 'Pstatus', 'Medu', 'Fedu','Mjob', 'Fjob', 'reason', 'guardian', 'traveltime', 'studytime','failures', 'schoolsup', 'famsup', 'paid', 'activities', 'nursery','higher', 'internet', 'romantic', 'famrel', 'freetime', 'goout', 'Dalc','Walc', 'health', 'absences', 'MG1', 'MG2']]\n",
    "\n",
    "# For Sex, convert male ->1, female -> 0\n",
    "sex_map = {\"M\":1, \"F\":0}\n",
    "toPredictTestSet.loc[:, \"sex\"] = toPredictTestSet.loc[:, \"sex\"].map(sex_map)\n",
    "\n",
    "# For romantic, convert yes ->1, no -> 0\n",
    "romantic_map = {\"yes\":1, \"no\":0}\n",
    "toPredictTestSet.loc[:, \"romantic\"] = toPredictTestSet.loc[:, \"romantic\"].map(romantic_map)\n",
    "\n",
    "# For internet, convert yes ->1, no -> 0\n",
    "internet_map = {\"yes\":1, \"no\":0}\n",
    "toPredictTestSet.loc[:, \"internet\"] = toPredictTestSet.loc[:, \"internet\"].map(internet_map)\n",
    "\n",
    "# For schoolsup, convert yes ->1, no -> 0\n",
    "schoolsup_map = {\"yes\":1, \"no\":0}\n",
    "toPredictTestSet.loc[:, \"schoolsup\"] = toPredictTestSet.loc[:, \"schoolsup\"].map(schoolsup_map)\n",
    "\n",
    "\n",
    "# For famsup, convert yes ->1, no -> 0\n",
    "famsup_map = {\"yes\":1, \"no\":0}\n",
    "toPredictTestSet.loc[:, \"famsup\"] = toPredictTestSet.loc[:, \"famsup\"].map(famsup_map)\n",
    "\n",
    "# For paid, convert yes ->1, no -> 0\n",
    "paid_map = {\"yes\":1, \"no\":0}\n",
    "toPredictTestSet.loc[:, \"paid\"] = toPredictTestSet.loc[:, \"paid\"].map(paid_map)\n",
    "\n",
    "# For activities, convert yes ->1, no -> 0\n",
    "activities_map = {\"yes\":1, \"no\":0}\n",
    "toPredictTestSet.loc[:, \"activities\"] = toPredictTestSet.loc[:, \"activities\"].map(activities_map)\n",
    "\n",
    "# For nursery, convert yes ->1, no -> 0\n",
    "nursery_map = {\"yes\":1, \"no\":0}\n",
    "toPredictTestSet.loc[:, \"nursery\"] = toPredictTestSet.loc[:, \"nursery\"].map(nursery_map)\n",
    "\n",
    "# For higher, convert yes ->1, no -> 0\n",
    "higher_map = {\"yes\":1, \"no\":0}\n",
    "toPredictTestSet.loc[:, \"higher\"] = toPredictTestSet.loc[:, \"higher\"].map(higher_map)\n",
    "\n",
    "# For school, convert gp ->1, ms -> 0\n",
    "school_map = {\"GP\":1, \"MS\":0}\n",
    "toPredictTestSet.loc[:, \"school\"] = toPredictTestSet.loc[:, \"school\"].map(school_map)\n",
    "\n",
    "# For address, convert U ->1, R -> 0\n",
    "address_map = {\"U\":1, \"R\":0}\n",
    "toPredictTestSet.loc[:, \"address\"] = toPredictTestSet.loc[:, \"address\"].map(address_map)\n",
    "\n",
    "# For famsize, convert GT3 ->1, LE3 -> 0\n",
    "famsize_map = {\"GT3\":1, \"LE3\":0}\n",
    "toPredictTestSet.loc[:, \"famsize\"] = toPredictTestSet.loc[:, \"famsize\"].map(famsize_map)\n",
    "\n",
    "\n",
    "# For Pstatus, convert T ->1, A -> 0\n",
    "Pstatus_map = {\"T\":1, \"A\":0}\n",
    "toPredictTestSet.loc[:, \"Pstatus\"] = toPredictTestSet.loc[:, \"Pstatus\"].map(Pstatus_map)\n",
    "\n",
    "# For Mjob, convert \"teacher\" -> 1 \"health\" ->2 \"services\" ->3 \"at_home\" -> 4 \"other\" -> 5\n",
    "Mjob_map = {\"teacher\":1,\"health\":2,\"services\":3,\"at_home\":4,\"other\":5}\n",
    "toPredictTestSet.loc[:, \"Mjob\"] = toPredictTestSet.loc[:, \"Mjob\"].map(Mjob_map)\n",
    "\n",
    "# For Fjob, convert \"teacher\" -> 1 \"health\" ->2 \"services\" ->3 \"at_home\" -> 4 \"other\" -> 5\n",
    "Fjob_map = {\"teacher\":1,\"health\":2,\"services\":3,\"at_home\":4,\"other\":5}\n",
    "toPredictTestSet.loc[:, \"Fjob\"] = toPredictTestSet.loc[:, \"Fjob\"].map(Fjob_map)\n",
    "\n",
    "# For reason, convert \"home\" -> 1 \"reputation\" ->2 \"course\" ->3 \"other\" -> 4\n",
    "reason_map = {\"home\":1,\"reputation\":2,\"course\":3,\"other\":4}\n",
    "toPredictTestSet.loc[:, \"reason\"] = toPredictTestSet.loc[:, \"reason\"].map(reason_map)\n",
    "\n",
    "# For guardian, convert mother ->2, father -> 1 other -> 0\n",
    "guardian_map = {\"mother\":2, \"father\":1, \"other\":0}\n",
    "toPredictTestSet.loc[:, \"guardian\"] = toPredictTestSet.loc[:, \"guardian\"].map(guardian_map)\n",
    "\n",
    "toPredictTestSet.to_csv('testView.csv', sep=',')\n"
   ]
  },
  {
   "cell_type": "code",
   "execution_count": null,
   "metadata": {
    "collapsed": true
   },
   "outputs": [],
   "source": []
  },
  {
   "cell_type": "code",
   "execution_count": 63,
   "metadata": {
    "collapsed": false
   },
   "outputs": [],
   "source": [
    "result = clf.predict(toPredictTestSet)"
   ]
  },
  {
   "cell_type": "code",
   "execution_count": 69,
   "metadata": {
    "collapsed": false
   },
   "outputs": [
    {
     "data": {
      "text/plain": [
       "array([11, 13, 15, 10, 15, 15,  9, 11, 14, 11, 10, 10, 13, 11, 14, 11, 11,\n",
       "       11, 13, 10, 14, 13, 11, 15, 10, 11, 13, 10, 15, 11, 12, 17, 14, 15,\n",
       "       13, 17, 13, 11, 15, 10, 10, 17, 10, 11, 11, 10, 10, 18, 11, 14, 10,\n",
       "       13, 11, 14, 13, 11, 10, 10, 13,  0, 11, 14, 10,  9,  0, 12, 11, 11,\n",
       "       11, 13, 11, 10, 15, 16, 15, 10, 15, 12, 11, 15, 12, 10, 10, 14, 11,\n",
       "       15, 15,  8,  8, 13, 11, 11, 14, 13, 10, 17, 11, 13, 10, 14, 10, 11,\n",
       "       15, 10, 15, 15, 11, 10, 10, 17, 11, 13, 11, 12, 16, 13, 15, 11, 14,\n",
       "       13, 13, 11, 10, 10, 10, 10, 10, 11, 10, 13, 15, 13, 11, 13, 11, 11,\n",
       "       17, 13, 16, 10, 10, 12, 13, 17, 13, 13, 12, 13, 13, 12, 10, 10, 17,\n",
       "       13, 16, 17, 11, 11, 16, 11, 10, 13, 11, 18, 10,  8, 11, 10, 16, 10,\n",
       "       14, 14,  8, 10, 11, 15, 16, 12, 13, 15, 15, 13, 10, 11, 11, 13, 14,\n",
       "       15, 10,  8, 15, 15, 10, 13, 11])"
      ]
     },
     "execution_count": 69,
     "metadata": {},
     "output_type": "execute_result"
    }
   ],
   "source": [
    "result"
   ]
  },
  {
   "cell_type": "code",
   "execution_count": 64,
   "metadata": {
    "collapsed": false
   },
   "outputs": [],
   "source": [
    "prediction = pd.DataFrame({\"school\":test.loc[:,\"school\"],\"sex\":test.loc[:,\"sex\"],\"age\":test.loc[:,\"age\"],\"address\":test.loc[:,\"address\"], \"famsize\":test.loc[:,\"famsize\"],\"Pstatus\":test.loc[:,\"Pstatus\"],\"Medu\":test.loc[:,\"Medu\"],\"Fedu\":test.loc[:,\"Fedu\"],\"Mjob\":test.loc[:,\"Mjob\"],\"Fjob\":test.loc[:,\"Fjob\"],\"reason\":test.loc[:,\"reason\"],\"guardian\":test.loc[:,\"guardian\"], \"traveltime\":test.loc[:,\"traveltime\"],\"studytime\":test.loc[:,\"studytime\"],\"failures\":test.loc[:,\"failures\"], \"schoolsup\":test.loc[:,\"schoolsup\"], \"famsup\":test.loc[:,\"famsup\"], \"paid\":test.loc[:,\"paid\"], \"activities\":test.loc[:,\"activities\"],\"nursery\":test.loc[:,\"nursery\"],\"higher\":test.loc[:,\"higher\"], \"internet\":test.loc[:,\"internet\"],\"romantic\":test.loc[:,\"romantic\"], \"famrel\":test.loc[:,\"famrel\"], \"freetime\":test.loc[:,\"freetime\"],\"goout\":test.loc[:,\"goout\"], \"Dalc\":test.loc[:,\"Dalc\"],\"Walc\":test.loc[:,\"Walc\"], \"health\":test.loc[:,\"health\"], \"MG1\":test.loc[:,\"MG1\"], \"MG2\":test.loc[:,\"MG2\"],\"predictedMarks\": result})\n",
    "prediction.to_csv('result2.csv', index=False)"
   ]
  },
  {
   "cell_type": "code",
   "execution_count": 65,
   "metadata": {
    "collapsed": false
   },
   "outputs": [
    {
     "data": {
      "text/plain": [
       "0.41176470588235292"
      ]
     },
     "execution_count": 65,
     "metadata": {},
     "output_type": "execute_result"
    }
   ],
   "source": [
    "from sklearn.metrics import accuracy_score\n",
    "y_true = test.loc[:,\"MG3\"]\n",
    "accuracy_score(y_true, result)"
   ]
  },
  {
   "cell_type": "code",
   "execution_count": 66,
   "metadata": {
    "collapsed": false
   },
   "outputs": [
    {
     "name": "stderr",
     "output_type": "stream",
     "text": [
      "/home/dhiraj/anaconda3/lib/python3.5/site-packages/sklearn/metrics/classification.py:1113: UndefinedMetricWarning: Precision is ill-defined and being set to 0.0 in labels with no predicted samples.\n",
      "  'precision', 'predicted', average, warn_for)\n"
     ]
    },
    {
     "data": {
      "text/plain": [
       "0.32736016866639706"
      ]
     },
     "execution_count": 66,
     "metadata": {},
     "output_type": "execute_result"
    }
   ],
   "source": [
    "from sklearn.metrics import precision_score\n",
    "precision_score(y_true, result, average='macro')"
   ]
  },
  {
   "cell_type": "code",
   "execution_count": null,
   "metadata": {
    "collapsed": true
   },
   "outputs": [],
   "source": []
  }
 ],
 "metadata": {
  "anaconda-cloud": {},
  "kernelspec": {
   "display_name": "Python [conda root]",
   "language": "python",
   "name": "conda-root-py"
  },
  "language_info": {
   "codemirror_mode": {
    "name": "ipython",
    "version": 3
   },
   "file_extension": ".py",
   "mimetype": "text/x-python",
   "name": "python",
   "nbconvert_exporter": "python",
   "pygments_lexer": "ipython3",
   "version": "3.5.2"
  }
 },
 "nbformat": 4,
 "nbformat_minor": 1
}
