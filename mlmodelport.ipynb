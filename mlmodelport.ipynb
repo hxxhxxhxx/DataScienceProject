{
 "cells": [
  {
   "cell_type": "code",
   "execution_count": 48,
   "metadata": {
    "collapsed": false
   },
   "outputs": [
    {
     "name": "stdout",
     "output_type": "stream",
     "text": [
      "/home/dhiraj/vishwanektanDataScience/projrctG/student\n"
     ]
    }
   ],
   "source": [
    "cd /home/dhiraj/vishwanektanDataScience/projrctG/student"
   ]
  },
  {
   "cell_type": "code",
   "execution_count": 49,
   "metadata": {
    "collapsed": false
   },
   "outputs": [
    {
     "name": "stdout",
     "output_type": "stream",
     "text": [
      "\n",
      "\n",
      "Top of the training data:\n",
      "  school sex  age address famsize Pstatus  Medu  Fedu     Mjob      Fjob ...  \\\n",
      "0     MS   F   15       R     GT3       T     4     4  teacher     other ...   \n",
      "1     MS   F   16       R     GT3       T     1     1  at_home     other ...   \n",
      "2     GP   M   19       U     GT3       T     2     1    other     other ...   \n",
      "3     MS   M   17       U     GT3       T     2     3    other  services ...   \n",
      "4     MS   M   16       U     GT3       A     1     2    other     other ...   \n",
      "\n",
      "  famrel freetime  goout  Dalc  Walc health absences PG1 PG2 PG3  \n",
      "0      1        5      1     3     5      5        0  13  14  14  \n",
      "1      4        4      3     1     1      5        2  10   9  10  \n",
      "2      5        3      4     1     4      4       10   7  11  11  \n",
      "3      4        4      3     1     1      3        4  14  15  16  \n",
      "4      4        4      3     1     1      5        0  10  11  11  \n",
      "\n",
      "[5 rows x 33 columns]\n",
      "\n",
      "\n",
      "Summary statistics of training data\n",
      "              age        Medu        Fedu  traveltime   studytime    failures  \\\n",
      "count  454.000000  454.000000  454.000000  454.000000  454.000000  454.000000   \n",
      "mean    16.722467    2.508811    2.321586    1.577093    1.927313    0.244493   \n",
      "std      1.222518    1.152275    1.104924    0.773173    0.849102    0.633608   \n",
      "min     15.000000    0.000000    0.000000    1.000000    1.000000    0.000000   \n",
      "25%     16.000000    2.000000    1.000000    1.000000    1.000000    0.000000   \n",
      "50%     17.000000    2.000000    2.000000    1.000000    2.000000    0.000000   \n",
      "75%     18.000000    4.000000    3.000000    2.000000    2.000000    0.000000   \n",
      "max     22.000000    4.000000    4.000000    4.000000    4.000000    3.000000   \n",
      "\n",
      "           famrel    freetime       goout        Dalc        Walc      health  \\\n",
      "count  454.000000  454.000000  454.000000  454.000000  454.000000  454.000000   \n",
      "mean     3.960352    3.222467    3.209251    1.533040    2.337004    3.579295   \n",
      "std      0.950527    1.053252    1.174716    0.961746    1.304973    1.434859   \n",
      "min      1.000000    1.000000    1.000000    1.000000    1.000000    1.000000   \n",
      "25%      4.000000    3.000000    2.000000    1.000000    1.000000    3.000000   \n",
      "50%      4.000000    3.000000    3.000000    1.000000    2.000000    4.000000   \n",
      "75%      5.000000    4.000000    4.000000    2.000000    3.000000    5.000000   \n",
      "max      5.000000    5.000000    5.000000    5.000000    5.000000    5.000000   \n",
      "\n",
      "         absences         PG1         PG2         PG3  \n",
      "count  454.000000  454.000000  454.000000  454.000000  \n",
      "mean     3.566079   11.345815   11.539648   11.814978  \n",
      "std      4.626328    2.722933    2.890491    3.299762  \n",
      "min      0.000000    4.000000    0.000000    0.000000  \n",
      "25%      0.000000    9.000000   10.000000   10.000000  \n",
      "50%      2.000000   11.000000   11.000000   12.000000  \n",
      "75%      6.000000   13.000000   13.000000   14.000000  \n",
      "max     32.000000   18.000000   19.000000   19.000000  \n"
     ]
    }
   ],
   "source": [
    "import numpy as np\n",
    "import pandas as pd\n",
    "from sklearn import cross_validation\n",
    "from sklearn.ensemble import RandomForestClassifier\n",
    "\n",
    "#Print you can execute arbitrary python code\n",
    "train = pd.read_csv(\"trainPort.csv\" )\n",
    "test = pd.read_csv(\"testPort.csv\")\n",
    "\n",
    "#Print to standard output, and see the results in the \"log\" section below after running your script\n",
    "print(\"\\n\\nTop of the training data:\")\n",
    "print(train.head())\n",
    "\n",
    "print(\"\\n\\nSummary statistics of training data\")\n",
    "print(train.describe())"
   ]
  },
  {
   "cell_type": "code",
   "execution_count": 50,
   "metadata": {
    "collapsed": false
   },
   "outputs": [
    {
     "data": {
      "text/plain": [
       "Index(['school', 'sex', 'age', 'address', 'famsize', 'Pstatus', 'Medu', 'Fedu',\n",
       "       'Mjob', 'Fjob', 'reason', 'guardian', 'traveltime', 'studytime',\n",
       "       'failures', 'schoolsup', 'famsup', 'paid', 'activities', 'nursery',\n",
       "       'higher', 'internet', 'romantic', 'famrel', 'freetime', 'goout', 'Dalc',\n",
       "       'Walc', 'health', 'absences', 'PG1', 'PG2', 'PG3'],\n",
       "      dtype='object')"
      ]
     },
     "execution_count": 50,
     "metadata": {},
     "output_type": "execute_result"
    }
   ],
   "source": [
    "train.columns"
   ]
  },
  {
   "cell_type": "code",
   "execution_count": 51,
   "metadata": {
    "collapsed": false
   },
   "outputs": [
    {
     "name": "stdout",
     "output_type": "stream",
     "text": [
      "\n",
      "\n",
      "Train set size: (454, 33)\n",
      "\n",
      "\n",
      "Top of features:\n",
      "  school sex  age address famsize Pstatus  Medu  Fedu     Mjob      Fjob ...  \\\n",
      "0     MS   F   15       R     GT3       T     4     4  teacher     other ...   \n",
      "1     MS   F   16       R     GT3       T     1     1  at_home     other ...   \n",
      "2     GP   M   19       U     GT3       T     2     1    other     other ...   \n",
      "3     MS   M   17       U     GT3       T     2     3    other  services ...   \n",
      "4     MS   M   16       U     GT3       A     1     2    other     other ...   \n",
      "\n",
      "  romantic famrel  freetime  goout  Dalc Walc health absences PG1 PG2  \n",
      "0      yes      1         5      1     3    5      5        0  13  14  \n",
      "1       no      4         4      3     1    1      5        2  10   9  \n",
      "2       no      5         3      4     1    4      4       10   7  11  \n",
      "3       no      4         4      3     1    1      3        4  14  15  \n",
      "4       no      4         4      3     1    1      5        0  10  11  \n",
      "\n",
      "[5 rows x 32 columns]\n",
      "\n",
      "\n",
      "Top of labels\n",
      "0    14\n",
      "1    10\n",
      "2    11\n",
      "3    16\n",
      "4    11\n",
      "Name: PG3, dtype: int64\n"
     ]
    }
   ],
   "source": [
    "# Split train set to X(features), Y(labels)\n",
    "print(\"\\n\\nTrain set size: %s\" % (train.shape,))\n",
    "X = train.loc[:, ['school', 'sex', 'age', 'address', 'famsize', 'Pstatus', 'Medu', 'Fedu','Mjob', 'Fjob', 'reason', 'guardian', 'traveltime', 'studytime','failures', 'schoolsup', 'famsup', 'paid', 'activities', 'nursery','higher', 'internet', 'romantic', 'famrel', 'freetime', 'goout', 'Dalc','Walc', 'health', 'absences', 'PG1', 'PG2']]\n",
    "Y = train.loc[:,\"PG3\"]\n",
    "print(\"\\n\\nTop of features:\")\n",
    "print(X.head())\n",
    "print(\"\\n\\nTop of labels\")\n",
    "print(Y.head())"
   ]
  },
  {
   "cell_type": "code",
   "execution_count": 52,
   "metadata": {
    "collapsed": false
   },
   "outputs": [
    {
     "name": "stdout",
     "output_type": "stream",
     "text": [
      "\n",
      "\n",
      "Train set size: (454, 33)\n",
      "\n",
      "\n",
      "Top of features:\n",
      "  school sex  age address famsize Pstatus  Medu  Fedu     Mjob      Fjob ...  \\\n",
      "0     MS   F   15       R     GT3       T     4     4  teacher     other ...   \n",
      "1     MS   F   16       R     GT3       T     1     1  at_home     other ...   \n",
      "2     GP   M   19       U     GT3       T     2     1    other     other ...   \n",
      "3     MS   M   17       U     GT3       T     2     3    other  services ...   \n",
      "4     MS   M   16       U     GT3       A     1     2    other     other ...   \n",
      "\n",
      "  romantic famrel  freetime  goout  Dalc Walc health absences PG1 PG2  \n",
      "0      yes      1         5      1     3    5      5        0  13  14  \n",
      "1       no      4         4      3     1    1      5        2  10   9  \n",
      "2       no      5         3      4     1    4      4       10   7  11  \n",
      "3       no      4         4      3     1    1      3        4  14  15  \n",
      "4       no      4         4      3     1    1      5        0  10  11  \n",
      "\n",
      "[5 rows x 32 columns]\n",
      "\n",
      "\n",
      "Top of labels\n",
      "0    14\n",
      "1    10\n",
      "2    11\n",
      "3    16\n",
      "4    11\n",
      "Name: PG3, dtype: int64\n"
     ]
    }
   ],
   "source": [
    "# Split train set to X(features), Y(labels)\n",
    "print(\"\\n\\nTrain set size: %s\" % (train.shape,))\n",
    "X = train.loc[:, ['school', 'sex', 'age', 'address', 'famsize', 'Pstatus', 'Medu', 'Fedu','Mjob', 'Fjob', 'reason', 'guardian', 'traveltime', 'studytime','failures', 'schoolsup', 'famsup', 'paid', 'activities', 'nursery','higher', 'internet', 'romantic', 'famrel', 'freetime', 'goout', 'Dalc','Walc', 'health', 'absences', 'PG1', 'PG2']]\n",
    "Y = train.loc[:,\"PG3\"]\n",
    "print(\"\\n\\nTop of features:\")\n",
    "print(X.head())\n",
    "print(\"\\n\\nTop of labels\")\n",
    "print(Y.head())\n",
    "\n",
    "# Data Clean"
   ]
  },
  {
   "cell_type": "code",
   "execution_count": 53,
   "metadata": {
    "collapsed": true
   },
   "outputs": [],
   "source": [
    "# For Sex, convert male ->1, female -> 0\n",
    "sex_map = {\"M\":1, \"F\":0}\n",
    "X.loc[:, \"sex\"] = X.loc[:, \"sex\"].map(sex_map)"
   ]
  },
  {
   "cell_type": "code",
   "execution_count": 54,
   "metadata": {
    "collapsed": true
   },
   "outputs": [],
   "source": [
    "# For romantic, convert yes ->1, no -> 0\n",
    "romantic_map = {\"yes\":1, \"no\":0}\n",
    "X.loc[:, \"romantic\"] = X.loc[:, \"romantic\"].map(romantic_map)"
   ]
  },
  {
   "cell_type": "code",
   "execution_count": 55,
   "metadata": {
    "collapsed": true
   },
   "outputs": [],
   "source": [
    "# For internet, convert yes ->1, no -> 0\n",
    "internet_map = {\"yes\":1, \"no\":0}\n",
    "X.loc[:, \"internet\"] = X.loc[:, \"internet\"].map(internet_map)"
   ]
  },
  {
   "cell_type": "code",
   "execution_count": 56,
   "metadata": {
    "collapsed": true
   },
   "outputs": [],
   "source": [
    "# For schoolsup, convert yes ->1, no -> 0\n",
    "schoolsup_map = {\"yes\":1, \"no\":0}\n",
    "X.loc[:, \"schoolsup\"] = X.loc[:, \"schoolsup\"].map(schoolsup_map)"
   ]
  },
  {
   "cell_type": "code",
   "execution_count": 57,
   "metadata": {
    "collapsed": true
   },
   "outputs": [],
   "source": [
    "# For famsup, convert yes ->1, no -> 0\n",
    "famsup_map = {\"yes\":1, \"no\":0}\n",
    "X.loc[:, \"famsup\"] = X.loc[:, \"famsup\"].map(famsup_map)"
   ]
  },
  {
   "cell_type": "code",
   "execution_count": 58,
   "metadata": {
    "collapsed": true
   },
   "outputs": [],
   "source": [
    "# For paid, convert yes ->1, no -> 0\n",
    "paid_map = {\"yes\":1, \"no\":0}\n",
    "X.loc[:, \"paid\"] = X.loc[:, \"paid\"].map(paid_map)"
   ]
  },
  {
   "cell_type": "code",
   "execution_count": 59,
   "metadata": {
    "collapsed": true
   },
   "outputs": [],
   "source": [
    "# For activities, convert yes ->1, no -> 0\n",
    "activities_map = {\"yes\":1, \"no\":0}\n",
    "X.loc[:, \"activities\"] = X.loc[:, \"activities\"].map(activities_map)"
   ]
  },
  {
   "cell_type": "code",
   "execution_count": 60,
   "metadata": {
    "collapsed": true
   },
   "outputs": [],
   "source": [
    "# For nursery, convert yes ->1, no -> 0\n",
    "nursery_map = {\"yes\":1, \"no\":0}\n",
    "X.loc[:, \"nursery\"] = X.loc[:, \"nursery\"].map(nursery_map)"
   ]
  },
  {
   "cell_type": "code",
   "execution_count": 61,
   "metadata": {
    "collapsed": true
   },
   "outputs": [],
   "source": [
    "# For higher, convert yes ->1, no -> 0\n",
    "higher_map = {\"yes\":1, \"no\":0}\n",
    "X.loc[:, \"higher\"] = X.loc[:, \"higher\"].map(higher_map)"
   ]
  },
  {
   "cell_type": "code",
   "execution_count": 62,
   "metadata": {
    "collapsed": false
   },
   "outputs": [],
   "source": [
    "# For school, convert gp ->1, ms -> 0\n",
    "school_map = {\"GP\":1, \"MS\":0}\n",
    "X.loc[:, \"school\"] = X.loc[:, \"school\"].map(school_map)"
   ]
  },
  {
   "cell_type": "code",
   "execution_count": 63,
   "metadata": {
    "collapsed": false
   },
   "outputs": [],
   "source": [
    "# For address, convert U ->1, R -> 0\n",
    "address_map = {\"U\":1, \"R\":0}\n",
    "X.loc[:, \"address\"] = X.loc[:, \"address\"].map(address_map)"
   ]
  },
  {
   "cell_type": "code",
   "execution_count": 64,
   "metadata": {
    "collapsed": false
   },
   "outputs": [],
   "source": [
    "# For famsize, convert GT3 ->1, LE3 -> 0\n",
    "famsize_map = {\"GT3\":1, \"LE3\":0}\n",
    "X.loc[:, \"famsize\"] = X.loc[:, \"famsize\"].map(famsize_map)"
   ]
  },
  {
   "cell_type": "code",
   "execution_count": 65,
   "metadata": {
    "collapsed": false
   },
   "outputs": [],
   "source": [
    "# For Pstatus, convert T ->1, A -> 0\n",
    "Pstatus_map = {\"T\":1, \"A\":0}\n",
    "X.loc[:, \"Pstatus\"] = X.loc[:, \"Pstatus\"].map(Pstatus_map)"
   ]
  },
  {
   "cell_type": "code",
   "execution_count": 66,
   "metadata": {
    "collapsed": false
   },
   "outputs": [],
   "source": [
    "# For Mjob, convert \"teacher\" -> 1 \"health\" ->2 \"services\" ->3 \"at_home\" -> 4 \"other\" -> 5\n",
    "Mjob_map = {\"teacher\":1,\"health\":2,\"services\":3,\"at_home\":4,\"other\":5}\n",
    "X.loc[:, \"Mjob\"] = X.loc[:, \"Mjob\"].map(Mjob_map)"
   ]
  },
  {
   "cell_type": "code",
   "execution_count": 67,
   "metadata": {
    "collapsed": false
   },
   "outputs": [],
   "source": [
    "# For Fjob, convert \"teacher\" -> 1 \"health\" ->2 \"services\" ->3 \"at_home\" -> 4 \"other\" -> 5\n",
    "Fjob_map = {\"teacher\":1,\"health\":2,\"services\":3,\"at_home\":4,\"other\":5}\n",
    "X.loc[:, \"Fjob\"] = X.loc[:, \"Fjob\"].map(Fjob_map)"
   ]
  },
  {
   "cell_type": "code",
   "execution_count": 68,
   "metadata": {
    "collapsed": true
   },
   "outputs": [],
   "source": [
    "# For reason, convert \"home\" -> 1 \"reputation\" ->2 \"course\" ->3 \"other\" -> 4\n",
    "reason_map = {\"home\":1,\"reputation\":2,\"course\":3,\"other\":4}\n",
    "X.loc[:, \"reason\"] = X.loc[:, \"reason\"].map(reason_map)"
   ]
  },
  {
   "cell_type": "code",
   "execution_count": 69,
   "metadata": {
    "collapsed": true
   },
   "outputs": [],
   "source": [
    "# For guardian, convert mother ->2, father -> 1 other -> 0\n",
    "guardian_map = {\"mother\":2, \"father\":1, \"other\":0}\n",
    "X.loc[:, \"guardian\"] = X.loc[:, \"guardian\"].map(guardian_map)"
   ]
  },
  {
   "cell_type": "code",
   "execution_count": 70,
   "metadata": {
    "collapsed": true
   },
   "outputs": [],
   "source": [
    "X.to_csv('cleanedPortView32Feature.csv', sep=',')"
   ]
  },
  {
   "cell_type": "code",
   "execution_count": 71,
   "metadata": {
    "collapsed": false
   },
   "outputs": [
    {
     "data": {
      "text/plain": [
       "'\\n# Train classifier Random Forest\\n#clf = RandomForestClassifier(n_estimators=int(X.shape[1] / 2))\\nclf = RandomForestClassifier(n_estimators=100)\\nscores = cross_validation.cross_val_score(clf, X, Y, cv=8)\\nprint(\"RandomForese Accuracy: %0.2f (+/- %0.2f)\" % (scores.mean(), scores.std() * 2))\\nclf = clf.fit(X, Y)\\n'"
      ]
     },
     "execution_count": 71,
     "metadata": {},
     "output_type": "execute_result"
    }
   ],
   "source": [
    "'''\n",
    "# Train classifier Random Forest\n",
    "#clf = RandomForestClassifier(n_estimators=int(X.shape[1] / 2))\n",
    "clf = RandomForestClassifier(n_estimators=100)\n",
    "scores = cross_validation.cross_val_score(clf, X, Y, cv=8)\n",
    "print(\"RandomForese Accuracy: %0.2f (+/- %0.2f)\" % (scores.mean(), scores.std() * 2))\n",
    "clf = clf.fit(X, Y)\n",
    "'''"
   ]
  },
  {
   "cell_type": "code",
   "execution_count": 72,
   "metadata": {
    "collapsed": false
   },
   "outputs": [
    {
     "name": "stderr",
     "output_type": "stream",
     "text": [
      "/home/dhiraj/anaconda3/lib/python3.5/site-packages/sklearn/cross_validation.py:552: Warning: The least populated class in y has only 1 members, which is too few. The minimum number of labels for any class cannot be less than n_folds=8.\n",
      "  % (min_labels, self.n_folds)), Warning)\n"
     ]
    },
    {
     "name": "stdout",
     "output_type": "stream",
     "text": [
      "[ 0.016  0.015  0.043  0.017  0.014  0.01   0.032  0.038  0.035  0.026\n",
      "  0.035  0.02   0.026  0.031  0.019  0.01   0.018  0.006  0.018  0.012\n",
      "  0.009  0.014  0.018  0.031  0.039  0.038  0.023  0.035  0.04   0.049\n",
      "  0.104  0.161]\n",
      "[ 0.016  0.015  0.043  0.017  0.014  0.01   0.032  0.038  0.035  0.026\n",
      "  0.035  0.02   0.026  0.031  0.019  0.01   0.018  0.006  0.018  0.012\n",
      "  0.009  0.014  0.018  0.031  0.039  0.038  0.023  0.035  0.04   0.049\n",
      "  0.104  0.161]\n"
     ]
    },
    {
     "data": {
      "text/plain": [
       "<Container object of 32 artists>"
      ]
     },
     "execution_count": 72,
     "metadata": {},
     "output_type": "execute_result"
    },
    {
     "data": {
      "image/png": "[encoded data removed]",
      "text/plain": [
       "<matplotlib.figure.Figure at 0x7ff562aead68>"
      ]
     },
     "metadata": {},
     "output_type": "display_data"
    }
   ],
   "source": [
    "# Features selecting Feature Importance\n",
    "\n",
    "from sklearn.feature_selection import SelectKBest\n",
    "from sklearn.feature_selection import chi2\n",
    "\n",
    "%matplotlib inline\n",
    "import matplotlib.pyplot as plt\n",
    "\n",
    "\n",
    "clfscr = RandomForestClassifier(n_estimators=100)\n",
    "scores = cross_validation.cross_val_score(clfscr, X, Y, cv=8)\n",
    "\n",
    "clfscr = clfscr.fit(X, Y)\n",
    "print(clfscr.feature_importances_)\n",
    "\n",
    "pddq = pd.DataFrame(clfscr.feature_importances_)\n",
    "\n",
    "pddq.hist()\n",
    "\n",
    "yy = clfscr.feature_importances_\n",
    "NN = len(yy)\n",
    "xx = range(NN)\n",
    "print (yy)\n",
    "width = 1/1.5\n",
    "plt.bar(xx, yy*100, color=\"red\")\n",
    "\n",
    "\n"
   ]
  },
  {
   "cell_type": "code",
   "execution_count": 73,
   "metadata": {
    "collapsed": false
   },
   "outputs": [
    {
     "data": {
      "text/plain": [
       "Index(['school', 'sex', 'age', 'address', 'famsize', 'Pstatus', 'Medu', 'Fedu',\n",
       "       'Mjob', 'Fjob', 'reason', 'guardian', 'traveltime', 'studytime',\n",
       "       'failures', 'schoolsup', 'famsup', 'paid', 'activities', 'nursery',\n",
       "       'higher', 'internet', 'romantic', 'famrel', 'freetime', 'goout', 'Dalc',\n",
       "       'Walc', 'health', 'absences', 'PG1', 'PG2'],\n",
       "      dtype='object')"
      ]
     },
     "execution_count": 73,
     "metadata": {},
     "output_type": "execute_result"
    }
   ],
   "source": [
    "X.columns"
   ]
  },
  {
   "cell_type": "code",
   "execution_count": 74,
   "metadata": {
    "collapsed": false
   },
   "outputs": [
    {
     "name": "stdout",
     "output_type": "stream",
     "text": [
      "[  25.429   12.536    4.742   10.479    3.515    0.796   25.3     25.748\n",
      "    9.954    7.157    8.282    3.054   10.395   15.596  204.93    14.479\n",
      "    6.086   10.524   12.358    3.329    8.784    5.916   13.683    4.171\n",
      "    8.877   10.384   34.859   27.108   11.332  279.419  230.617  285.733]\n",
      "[[ 0  0 13 14]\n",
      " [ 0  2 10  9]\n",
      " [ 0 10  7 11]\n",
      " ..., \n",
      " [ 0  0 14 17]\n",
      " [ 0  0 18 18]\n",
      " [ 0  2 14 14]]\n"
     ]
    },
    {
     "data": {
      "text/plain": [
       "<Container object of 32 artists>"
      ]
     },
     "execution_count": 74,
     "metadata": {},
     "output_type": "execute_result"
    },
    {
     "data": {
      "image/png": "[encoded data removed]",
      "text/plain": [
       "<matplotlib.figure.Figure at 0x7ff55d11dbe0>"
      ]
     },
     "metadata": {},
     "output_type": "display_data"
    }
   ],
   "source": [
    "# feature extraction Univariate Selection\n",
    "\n",
    "testK = SelectKBest(score_func=chi2, k=4)\n",
    "fit = testK.fit(X, Y)\n",
    "# summarize scores\n",
    "np.set_printoptions(precision=3)\n",
    "print(fit.scores_)\n",
    "features = fit.transform(X)\n",
    "# summarize selected features\n",
    "print(features[:,:])\n",
    "\n",
    "\n",
    "yu = fit.scores_\n",
    "N = len(yu)\n",
    "x = range(N)\n",
    "width = 1/1.5\n",
    "plt.bar(x, yu, color=\"blue\")"
   ]
  },
  {
   "cell_type": "code",
   "execution_count": 75,
   "metadata": {
    "collapsed": false
   },
   "outputs": [
    {
     "data": {
      "text/plain": [
       "Index(['school', 'sex', 'age', 'address', 'famsize', 'Pstatus', 'Medu', 'Fedu',\n",
       "       'Mjob', 'Fjob', 'reason', 'guardian', 'traveltime', 'studytime',\n",
       "       'failures', 'schoolsup', 'famsup', 'paid', 'activities', 'nursery',\n",
       "       'higher', 'internet', 'romantic', 'famrel', 'freetime', 'goout', 'Dalc',\n",
       "       'Walc', 'health', 'absences', 'PG1', 'PG2'],\n",
       "      dtype='object')"
      ]
     },
     "execution_count": 75,
     "metadata": {},
     "output_type": "execute_result"
    }
   ],
   "source": [
    "X.columns"
   ]
  },
  {
   "cell_type": "code",
   "execution_count": 76,
   "metadata": {
    "collapsed": false
   },
   "outputs": [
    {
     "name": "stdout",
     "output_type": "stream",
     "text": [
      "5\n",
      "[ True False False False False False False False False False False False\n",
      "  True False  True False False False False False  True False False False\n",
      " False False  True False False False False False]\n",
      "[ 1 13  5  2 22 21 26  6 27 16 24 19  1 18  1  9  3 14 10  8  1 23 15 28 20\n",
      " 17  1 25 11 12  7  4]\n"
     ]
    }
   ],
   "source": [
    "# feature extraction  Recursive Feature Elimination\n",
    "\n",
    "from sklearn.feature_selection import RFE\n",
    "from sklearn.linear_model import LogisticRegression\n",
    "\n",
    "model = LogisticRegression()\n",
    "rfe = RFE(model, 5)\n",
    "fit = rfe.fit(X, Y)\n",
    "print(fit.n_features_)\n",
    "print(fit.support_)\n",
    "print(fit.ranking_)"
   ]
  },
  {
   "cell_type": "code",
   "execution_count": 77,
   "metadata": {
    "collapsed": false
   },
   "outputs": [
    {
     "data": {
      "text/plain": [
       "Index(['school', 'sex', 'age', 'address', 'famsize', 'Pstatus', 'Medu', 'Fedu',\n",
       "       'Mjob', 'Fjob', 'reason', 'guardian', 'traveltime', 'studytime',\n",
       "       'failures', 'schoolsup', 'famsup', 'paid', 'activities', 'nursery',\n",
       "       'higher', 'internet', 'romantic', 'famrel', 'freetime', 'goout', 'Dalc',\n",
       "       'Walc', 'health', 'absences', 'PG1', 'PG2'],\n",
       "      dtype='object')"
      ]
     },
     "execution_count": 77,
     "metadata": {},
     "output_type": "execute_result"
    }
   ],
   "source": [
    "X.columns"
   ]
  },
  {
   "cell_type": "code",
   "execution_count": 78,
   "metadata": {
    "collapsed": false
   },
   "outputs": [
    {
     "name": "stdout",
     "output_type": "stream",
     "text": [
      "[ 0.393  0.246  0.055]\n",
      "[[  2.146e-03   8.577e-03   4.917e-02   1.841e-03   1.261e-03  -7.698e-03\n",
      "   -2.509e-02  -1.366e-02   3.334e-02   6.067e-03  -1.181e-02  -6.764e-03\n",
      "    9.790e-03  -3.353e-02   3.818e-02  -4.300e-03  -1.175e-03  -1.786e-03\n",
      "   -2.779e-03  -2.655e-03  -1.760e-02  -8.317e-04   1.075e-02  -1.621e-02\n",
      "    6.027e-03   3.503e-02   4.499e-02   6.061e-02  -1.082e-02   9.242e-01\n",
      "   -2.529e-01  -2.584e-01]\n",
      " [  4.682e-02  -1.217e-02  -3.007e-02   2.504e-02  -3.212e-03   7.512e-04\n",
      "    9.113e-02   7.790e-02  -5.953e-02  -1.490e-02  -4.825e-02   5.990e-03\n",
      "   -3.547e-02   4.176e-02  -5.703e-02  -9.265e-03   6.768e-03  -2.374e-03\n",
      "    7.967e-03   4.310e-03   2.073e-02   2.006e-02  -1.047e-02   2.143e-02\n",
      "   -2.980e-02  -1.953e-02  -3.962e-02  -5.232e-02  -3.067e-02   3.726e-01\n",
      "    6.150e-01   6.664e-01]\n",
      " [  4.454e-02   7.744e-02  -1.333e-01   4.771e-02  -1.563e-02   1.515e-03\n",
      "    4.340e-01   4.036e-01  -5.659e-01  -2.893e-01  -7.215e-03   2.783e-02\n",
      "   -8.515e-02  -1.546e-02  -2.793e-02  -8.511e-03   3.638e-02   1.421e-02\n",
      "    3.234e-02   8.711e-03   1.452e-02   6.875e-02   7.831e-03  -9.376e-03\n",
      "    1.304e-01   1.592e-01   1.788e-01   2.949e-01   1.706e-01  -1.896e-02\n",
      "   -3.615e-02  -8.676e-02]]\n"
     ]
    }
   ],
   "source": [
    "# feature extraction  PCA\n",
    "\n",
    "from sklearn.decomposition import PCA\n",
    "\n",
    "# feature extraction\n",
    "pca = PCA(n_components=3)\n",
    "fit = pca.fit(X)\n",
    "# summarize components\n",
    "print(fit.explained_variance_ratio_)\n",
    "print(fit.components_)"
   ]
  },
  {
   "cell_type": "code",
   "execution_count": 79,
   "metadata": {
    "collapsed": false
   },
   "outputs": [
    {
     "data": {
      "text/plain": [
       "Index(['school', 'sex', 'age', 'address', 'famsize', 'Pstatus', 'Medu', 'Fedu',\n",
       "       'Mjob', 'Fjob', 'reason', 'guardian', 'traveltime', 'studytime',\n",
       "       'failures', 'schoolsup', 'famsup', 'paid', 'activities', 'nursery',\n",
       "       'higher', 'internet', 'romantic', 'famrel', 'freetime', 'goout', 'Dalc',\n",
       "       'Walc', 'health', 'absences', 'PG1', 'PG2'],\n",
       "      dtype='object')"
      ]
     },
     "execution_count": 79,
     "metadata": {},
     "output_type": "execute_result"
    }
   ],
   "source": [
    "X.columns"
   ]
  },
  {
   "cell_type": "code",
   "execution_count": 80,
   "metadata": {
    "collapsed": true
   },
   "outputs": [],
   "source": [
    "#XF = X[['age','failures','absences','PG1','PG2']]\n",
    "XF = X[['PG1','PG2']]"
   ]
  },
  {
   "cell_type": "code",
   "execution_count": 81,
   "metadata": {
    "collapsed": false
   },
   "outputs": [
    {
     "data": {
      "text/html": [
       "<div>\n",
       "<table border=\"1\" class=\"dataframe\">\n",
       "  <thead>\n",
       "    <tr style=\"text-align: right;\">\n",
       "      <th></th>\n",
       "      <th>PG1</th>\n",
       "      <th>PG2</th>\n",
       "    </tr>\n",
       "  </thead>\n",
       "  <tbody>\n",
       "    <tr>\n",
       "      <th>0</th>\n",
       "      <td>13</td>\n",
       "      <td>14</td>\n",
       "    </tr>\n",
       "    <tr>\n",
       "      <th>1</th>\n",
       "      <td>10</td>\n",
       "      <td>9</td>\n",
       "    </tr>\n",
       "    <tr>\n",
       "      <th>2</th>\n",
       "      <td>7</td>\n",
       "      <td>11</td>\n",
       "    </tr>\n",
       "    <tr>\n",
       "      <th>3</th>\n",
       "      <td>14</td>\n",
       "      <td>15</td>\n",
       "    </tr>\n",
       "    <tr>\n",
       "      <th>4</th>\n",
       "      <td>10</td>\n",
       "      <td>11</td>\n",
       "    </tr>\n",
       "  </tbody>\n",
       "</table>\n",
       "</div>"
      ],
      "text/plain": [
       "   PG1  PG2\n",
       "0   13   14\n",
       "1   10    9\n",
       "2    7   11\n",
       "3   14   15\n",
       "4   10   11"
      ]
     },
     "execution_count": 81,
     "metadata": {},
     "output_type": "execute_result"
    }
   ],
   "source": [
    "XF.head()"
   ]
  },
  {
   "cell_type": "code",
   "execution_count": null,
   "metadata": {
    "collapsed": true
   },
   "outputs": [],
   "source": []
  },
  {
   "cell_type": "code",
   "execution_count": 82,
   "metadata": {
    "collapsed": true
   },
   "outputs": [],
   "source": [
    "#using SVM\n",
    "from sklearn import svm"
   ]
  },
  {
   "cell_type": "code",
   "execution_count": 83,
   "metadata": {
    "collapsed": false
   },
   "outputs": [
    {
     "data": {
      "text/plain": [
       "SVC(C=1.0, cache_size=200, class_weight=None, coef0=0.0,\n",
       "  decision_function_shape=None, degree=3, gamma='auto', kernel='rbf',\n",
       "  max_iter=-1, probability=False, random_state=None, shrinking=True,\n",
       "  tol=0.001, verbose=False)"
      ]
     },
     "execution_count": 83,
     "metadata": {},
     "output_type": "execute_result"
    }
   ],
   "source": [
    "clfsvm = svm.SVC()\n",
    "clfsvm.fit(X, Y) \n",
    "\n",
    "fsvm = svm.SVC()\n",
    "fsvm.fit(XF, Y) \n"
   ]
  },
  {
   "cell_type": "code",
   "execution_count": 84,
   "metadata": {
    "collapsed": false
   },
   "outputs": [
    {
     "name": "stderr",
     "output_type": "stream",
     "text": [
      "/home/dhiraj/anaconda3/lib/python3.5/site-packages/sklearn/cross_validation.py:552: Warning: The least populated class in y has only 1 members, which is too few. The minimum number of labels for any class cannot be less than n_folds=8.\n",
      "  % (min_labels, self.n_folds)), Warning)\n"
     ]
    },
    {
     "name": "stdout",
     "output_type": "stream",
     "text": [
      "svm Accuracy: 0.36 (+/- 0.12)\n",
      "svm Accuracy: 0.47 (+/- 0.09)\n"
     ]
    },
    {
     "name": "stderr",
     "output_type": "stream",
     "text": [
      "/home/dhiraj/anaconda3/lib/python3.5/site-packages/sklearn/cross_validation.py:552: Warning: The least populated class in y has only 1 members, which is too few. The minimum number of labels for any class cannot be less than n_folds=8.\n",
      "  % (min_labels, self.n_folds)), Warning)\n"
     ]
    }
   ],
   "source": [
    "scores = cross_validation.cross_val_score(clfsvm, X, Y, cv=8)\n",
    "print(\"svm Accuracy: %0.2f (+/- %0.2f)\" % (scores.mean(), scores.std() * 2))\n",
    "\n",
    "\n",
    "scoresf = cross_validation.cross_val_score(fsvm, XF, Y, cv=8)\n",
    "print(\"svm Accuracy: %0.2f (+/- %0.2f)\" % (scoresf.mean(), scoresf.std() * 2))\n"
   ]
  },
  {
   "cell_type": "code",
   "execution_count": 85,
   "metadata": {
    "collapsed": false
   },
   "outputs": [
    {
     "name": "stderr",
     "output_type": "stream",
     "text": [
      "/home/dhiraj/anaconda3/lib/python3.5/site-packages/sklearn/cross_validation.py:552: Warning: The least populated class in y has only 1 members, which is too few. The minimum number of labels for any class cannot be less than n_folds=8.\n",
      "  % (min_labels, self.n_folds)), Warning)\n"
     ]
    },
    {
     "name": "stdout",
     "output_type": "stream",
     "text": [
      "RandomForese Accuracy: 0.41 (+/- 0.19)\n"
     ]
    },
    {
     "name": "stderr",
     "output_type": "stream",
     "text": [
      "/home/dhiraj/anaconda3/lib/python3.5/site-packages/sklearn/cross_validation.py:552: Warning: The least populated class in y has only 1 members, which is too few. The minimum number of labels for any class cannot be less than n_folds=8.\n",
      "  % (min_labels, self.n_folds)), Warning)\n"
     ]
    },
    {
     "name": "stdout",
     "output_type": "stream",
     "text": [
      "RandomForese Accuracy: 0.42 (+/- 0.09)\n"
     ]
    }
   ],
   "source": [
    "# Train classifier Random Forest\n",
    "#clf = RandomForestClassifier(n_estimators=int(X.shape[1] / 2))\n",
    "clf = RandomForestClassifier(n_estimators=100)\n",
    "scores = cross_validation.cross_val_score(clf, X, Y, cv=8)\n",
    "print(\"RandomForese Accuracy: %0.2f (+/- %0.2f)\" % (scores.mean(), scores.std() * 2))\n",
    "clf = clf.fit(X, Y)\n",
    "\n",
    "\n",
    "\n",
    "# Train classifier Random Forest\n",
    "#clf = RandomForestClassifier(n_estimators=int(X.shape[1] / 2))\n",
    "clfF = RandomForestClassifier(n_estimators=100)\n",
    "scoresF = cross_validation.cross_val_score(clfF, XF, Y, cv=8)\n",
    "print(\"RandomForese Accuracy: %0.2f (+/- %0.2f)\" % (scoresF.mean(), scoresF.std() * 2))\n",
    "clfF = clfF.fit(XF, Y)"
   ]
  },
  {
   "cell_type": "code",
   "execution_count": 86,
   "metadata": {
    "collapsed": true
   },
   "outputs": [],
   "source": [
    "from sklearn.naive_bayes import GaussianNB\n",
    "gnb = GaussianNB()\n",
    "gnb = gnb.fit(X, Y)\n",
    "\n",
    "gnb = GaussianNB()\n",
    "gnbF = gnb.fit(XF, Y)\n",
    "\n"
   ]
  },
  {
   "cell_type": "code",
   "execution_count": 87,
   "metadata": {
    "collapsed": false
   },
   "outputs": [
    {
     "data": {
      "text/html": [
       "<div>\n",
       "<table border=\"1\" class=\"dataframe\">\n",
       "  <thead>\n",
       "    <tr style=\"text-align: right;\">\n",
       "      <th></th>\n",
       "      <th>school</th>\n",
       "      <th>sex</th>\n",
       "      <th>age</th>\n",
       "      <th>address</th>\n",
       "      <th>famsize</th>\n",
       "      <th>Pstatus</th>\n",
       "      <th>Medu</th>\n",
       "      <th>Fedu</th>\n",
       "      <th>Mjob</th>\n",
       "      <th>Fjob</th>\n",
       "      <th>...</th>\n",
       "      <th>famrel</th>\n",
       "      <th>freetime</th>\n",
       "      <th>goout</th>\n",
       "      <th>Dalc</th>\n",
       "      <th>Walc</th>\n",
       "      <th>health</th>\n",
       "      <th>absences</th>\n",
       "      <th>PG1</th>\n",
       "      <th>PG2</th>\n",
       "      <th>PG3</th>\n",
       "    </tr>\n",
       "  </thead>\n",
       "  <tbody>\n",
       "    <tr>\n",
       "      <th>0</th>\n",
       "      <td>GP</td>\n",
       "      <td>F</td>\n",
       "      <td>15</td>\n",
       "      <td>U</td>\n",
       "      <td>LE3</td>\n",
       "      <td>T</td>\n",
       "      <td>3</td>\n",
       "      <td>2</td>\n",
       "      <td>services</td>\n",
       "      <td>other</td>\n",
       "      <td>...</td>\n",
       "      <td>4</td>\n",
       "      <td>4</td>\n",
       "      <td>4</td>\n",
       "      <td>1</td>\n",
       "      <td>1</td>\n",
       "      <td>5</td>\n",
       "      <td>4</td>\n",
       "      <td>12</td>\n",
       "      <td>11</td>\n",
       "      <td>11</td>\n",
       "    </tr>\n",
       "    <tr>\n",
       "      <th>1</th>\n",
       "      <td>GP</td>\n",
       "      <td>M</td>\n",
       "      <td>17</td>\n",
       "      <td>U</td>\n",
       "      <td>LE3</td>\n",
       "      <td>A</td>\n",
       "      <td>3</td>\n",
       "      <td>2</td>\n",
       "      <td>teacher</td>\n",
       "      <td>services</td>\n",
       "      <td>...</td>\n",
       "      <td>4</td>\n",
       "      <td>4</td>\n",
       "      <td>4</td>\n",
       "      <td>3</td>\n",
       "      <td>4</td>\n",
       "      <td>3</td>\n",
       "      <td>18</td>\n",
       "      <td>13</td>\n",
       "      <td>13</td>\n",
       "      <td>13</td>\n",
       "    </tr>\n",
       "    <tr>\n",
       "      <th>2</th>\n",
       "      <td>GP</td>\n",
       "      <td>F</td>\n",
       "      <td>17</td>\n",
       "      <td>U</td>\n",
       "      <td>LE3</td>\n",
       "      <td>T</td>\n",
       "      <td>3</td>\n",
       "      <td>2</td>\n",
       "      <td>other</td>\n",
       "      <td>other</td>\n",
       "      <td>...</td>\n",
       "      <td>4</td>\n",
       "      <td>4</td>\n",
       "      <td>4</td>\n",
       "      <td>1</td>\n",
       "      <td>3</td>\n",
       "      <td>1</td>\n",
       "      <td>2</td>\n",
       "      <td>14</td>\n",
       "      <td>16</td>\n",
       "      <td>15</td>\n",
       "    </tr>\n",
       "    <tr>\n",
       "      <th>3</th>\n",
       "      <td>MS</td>\n",
       "      <td>M</td>\n",
       "      <td>18</td>\n",
       "      <td>R</td>\n",
       "      <td>GT3</td>\n",
       "      <td>T</td>\n",
       "      <td>3</td>\n",
       "      <td>2</td>\n",
       "      <td>other</td>\n",
       "      <td>other</td>\n",
       "      <td>...</td>\n",
       "      <td>2</td>\n",
       "      <td>5</td>\n",
       "      <td>5</td>\n",
       "      <td>5</td>\n",
       "      <td>5</td>\n",
       "      <td>5</td>\n",
       "      <td>8</td>\n",
       "      <td>9</td>\n",
       "      <td>10</td>\n",
       "      <td>11</td>\n",
       "    </tr>\n",
       "    <tr>\n",
       "      <th>4</th>\n",
       "      <td>GP</td>\n",
       "      <td>M</td>\n",
       "      <td>20</td>\n",
       "      <td>U</td>\n",
       "      <td>GT3</td>\n",
       "      <td>A</td>\n",
       "      <td>3</td>\n",
       "      <td>2</td>\n",
       "      <td>services</td>\n",
       "      <td>other</td>\n",
       "      <td>...</td>\n",
       "      <td>5</td>\n",
       "      <td>5</td>\n",
       "      <td>3</td>\n",
       "      <td>1</td>\n",
       "      <td>1</td>\n",
       "      <td>5</td>\n",
       "      <td>0</td>\n",
       "      <td>14</td>\n",
       "      <td>15</td>\n",
       "      <td>15</td>\n",
       "    </tr>\n",
       "  </tbody>\n",
       "</table>\n",
       "<p>5 rows × 33 columns</p>\n",
       "</div>"
      ],
      "text/plain": [
       "  school sex  age address famsize Pstatus  Medu  Fedu      Mjob      Fjob ...  \\\n",
       "0     GP   F   15       U     LE3       T     3     2  services     other ...   \n",
       "1     GP   M   17       U     LE3       A     3     2   teacher  services ...   \n",
       "2     GP   F   17       U     LE3       T     3     2     other     other ...   \n",
       "3     MS   M   18       R     GT3       T     3     2     other     other ...   \n",
       "4     GP   M   20       U     GT3       A     3     2  services     other ...   \n",
       "\n",
       "  famrel freetime  goout  Dalc  Walc health absences PG1 PG2 PG3  \n",
       "0      4        4      4     1     1      5        4  12  11  11  \n",
       "1      4        4      4     3     4      3       18  13  13  13  \n",
       "2      4        4      4     1     3      1        2  14  16  15  \n",
       "3      2        5      5     5     5      5        8   9  10  11  \n",
       "4      5        5      3     1     1      5        0  14  15  15  \n",
       "\n",
       "[5 rows x 33 columns]"
      ]
     },
     "execution_count": 87,
     "metadata": {},
     "output_type": "execute_result"
    }
   ],
   "source": [
    "test.head()"
   ]
  },
  {
   "cell_type": "code",
   "execution_count": null,
   "metadata": {
    "collapsed": true
   },
   "outputs": [],
   "source": []
  },
  {
   "cell_type": "code",
   "execution_count": 88,
   "metadata": {
    "collapsed": false
   },
   "outputs": [
    {
     "name": "stdout",
     "output_type": "stream",
     "text": [
      "\n",
      "\n",
      "Test set size: (195, 33)\n"
     ]
    }
   ],
   "source": [
    "# Split train set to X(features), Y(labels)\n",
    "print(\"\\n\\nTest set size: %s\" % (test.shape,))\n",
    "toPredictTestSet = test.loc[:, ['school', 'sex', 'age', 'address', 'famsize', 'Pstatus', 'Medu', 'Fedu','Mjob', 'Fjob', 'reason', 'guardian', 'traveltime', 'studytime','failures', 'schoolsup', 'famsup', 'paid', 'activities', 'nursery','higher', 'internet', 'romantic', 'famrel', 'freetime', 'goout', 'Dalc','Walc', 'health', 'absences', 'PG1', 'PG2']]\n",
    "\n",
    "# For Sex, convert male ->1, female -> 0\n",
    "sex_map = {\"M\":1, \"F\":0}\n",
    "toPredictTestSet.loc[:, \"sex\"] = toPredictTestSet.loc[:, \"sex\"].map(sex_map)\n",
    "\n",
    "# For romantic, convert yes ->1, no -> 0\n",
    "romantic_map = {\"yes\":1, \"no\":0}\n",
    "toPredictTestSet.loc[:, \"romantic\"] = toPredictTestSet.loc[:, \"romantic\"].map(romantic_map)\n",
    "\n",
    "# For internet, convert yes ->1, no -> 0\n",
    "internet_map = {\"yes\":1, \"no\":0}\n",
    "toPredictTestSet.loc[:, \"internet\"] = toPredictTestSet.loc[:, \"internet\"].map(internet_map)\n",
    "\n",
    "# For schoolsup, convert yes ->1, no -> 0\n",
    "schoolsup_map = {\"yes\":1, \"no\":0}\n",
    "toPredictTestSet.loc[:, \"schoolsup\"] = toPredictTestSet.loc[:, \"schoolsup\"].map(schoolsup_map)\n",
    "\n",
    "\n",
    "# For famsup, convert yes ->1, no -> 0\n",
    "famsup_map = {\"yes\":1, \"no\":0}\n",
    "toPredictTestSet.loc[:, \"famsup\"] = toPredictTestSet.loc[:, \"famsup\"].map(famsup_map)\n",
    "\n",
    "# For paid, convert yes ->1, no -> 0\n",
    "paid_map = {\"yes\":1, \"no\":0}\n",
    "toPredictTestSet.loc[:, \"paid\"] = toPredictTestSet.loc[:, \"paid\"].map(paid_map)\n",
    "\n",
    "# For activities, convert yes ->1, no -> 0\n",
    "activities_map = {\"yes\":1, \"no\":0}\n",
    "toPredictTestSet.loc[:, \"activities\"] = toPredictTestSet.loc[:, \"activities\"].map(activities_map)\n",
    "\n",
    "# For nursery, convert yes ->1, no -> 0\n",
    "nursery_map = {\"yes\":1, \"no\":0}\n",
    "toPredictTestSet.loc[:, \"nursery\"] = toPredictTestSet.loc[:, \"nursery\"].map(nursery_map)\n",
    "\n",
    "# For higher, convert yes ->1, no -> 0\n",
    "higher_map = {\"yes\":1, \"no\":0}\n",
    "toPredictTestSet.loc[:, \"higher\"] = toPredictTestSet.loc[:, \"higher\"].map(higher_map)\n",
    "\n",
    "# For school, convert gp ->1, ms -> 0\n",
    "school_map = {\"GP\":1, \"MS\":0}\n",
    "toPredictTestSet.loc[:, \"school\"] = toPredictTestSet.loc[:, \"school\"].map(school_map)\n",
    "\n",
    "# For address, convert U ->1, R -> 0\n",
    "address_map = {\"U\":1, \"R\":0}\n",
    "toPredictTestSet.loc[:, \"address\"] = toPredictTestSet.loc[:, \"address\"].map(address_map)\n",
    "\n",
    "# For famsize, convert GT3 ->1, LE3 -> 0\n",
    "famsize_map = {\"GT3\":1, \"LE3\":0}\n",
    "toPredictTestSet.loc[:, \"famsize\"] = toPredictTestSet.loc[:, \"famsize\"].map(famsize_map)\n",
    "\n",
    "\n",
    "# For Pstatus, convert T ->1, A -> 0\n",
    "Pstatus_map = {\"T\":1, \"A\":0}\n",
    "toPredictTestSet.loc[:, \"Pstatus\"] = toPredictTestSet.loc[:, \"Pstatus\"].map(Pstatus_map)\n",
    "\n",
    "# For Mjob, convert \"teacher\" -> 1 \"health\" ->2 \"services\" ->3 \"at_home\" -> 4 \"other\" -> 5\n",
    "Mjob_map = {\"teacher\":1,\"health\":2,\"services\":3,\"at_home\":4,\"other\":5}\n",
    "toPredictTestSet.loc[:, \"Mjob\"] = toPredictTestSet.loc[:, \"Mjob\"].map(Mjob_map)\n",
    "\n",
    "# For Fjob, convert \"teacher\" -> 1 \"health\" ->2 \"services\" ->3 \"at_home\" -> 4 \"other\" -> 5\n",
    "Fjob_map = {\"teacher\":1,\"health\":2,\"services\":3,\"at_home\":4,\"other\":5}\n",
    "toPredictTestSet.loc[:, \"Fjob\"] = toPredictTestSet.loc[:, \"Fjob\"].map(Fjob_map)\n",
    "\n",
    "# For reason, convert \"home\" -> 1 \"reputation\" ->2 \"course\" ->3 \"other\" -> 4\n",
    "reason_map = {\"home\":1,\"reputation\":2,\"course\":3,\"other\":4}\n",
    "toPredictTestSet.loc[:, \"reason\"] = toPredictTestSet.loc[:, \"reason\"].map(reason_map)\n",
    "\n",
    "# For guardian, convert mother ->2, father -> 1 other -> 0\n",
    "guardian_map = {\"mother\":2, \"father\":1, \"other\":0}\n",
    "toPredictTestSet.loc[:, \"guardian\"] = toPredictTestSet.loc[:, \"guardian\"].map(guardian_map)\n",
    "\n",
    "toPredictTestSet.to_csv('testView.csv', sep=',')\n",
    "\n"
   ]
  },
  {
   "cell_type": "code",
   "execution_count": 89,
   "metadata": {
    "collapsed": true
   },
   "outputs": [],
   "source": [
    "#predictF = toPredictTestSet[['age','failures','absences','PG1','PG2']]\n",
    "#predictF = toPredictTestSet[['failures','absences','PG1','PG2']]\n",
    "predictF = toPredictTestSet[['PG1','PG2']]"
   ]
  },
  {
   "cell_type": "code",
   "execution_count": 90,
   "metadata": {
    "collapsed": false
   },
   "outputs": [],
   "source": [
    "resultRF = clf.predict(toPredictTestSet)\n",
    "resultRFF = clfF.predict(predictF)\n",
    "\n",
    "\n",
    "resultSVM = clfsvm.predict(toPredictTestSet)\n",
    "resultSVMF = fsvm.predict(predictF)\n",
    "\n",
    "\n",
    "#resultGNB = gnb.predict(toPredictTestSet)\n",
    "resultGNBF = gnb.predict(predictF)"
   ]
  },
  {
   "cell_type": "code",
   "execution_count": null,
   "metadata": {
    "collapsed": true
   },
   "outputs": [],
   "source": []
  },
  {
   "cell_type": "code",
   "execution_count": 91,
   "metadata": {
    "collapsed": false
   },
   "outputs": [
    {
     "name": "stdout",
     "output_type": "stream",
     "text": [
      "result accuracy random forest \n",
      "0.425641025641\n",
      "result accuracy random forest with less feature \n",
      "0.471794871795\n",
      "result accuracy svm\n",
      "0.389743589744\n",
      "result accuracy svm less feaure \n",
      "0.471794871795\n",
      "result accuracy naive less feaure \n",
      "0.45641025641\n"
     ]
    }
   ],
   "source": [
    "from sklearn.metrics import accuracy_score\n",
    "y_true = test.loc[:,\"PG3\"]\n",
    "print(\"result accuracy random forest \")\n",
    "print (accuracy_score(y_true, resultRF))\n",
    "\n",
    "print(\"result accuracy random forest with less feature \")\n",
    "print (accuracy_score(y_true, resultRFF))\n",
    "\n",
    "print(\"result accuracy svm\")\n",
    "print (accuracy_score(y_true, resultSVM))\n",
    "\n",
    "print(\"result accuracy svm less feaure \")\n",
    "print (accuracy_score(y_true, resultSVMF))\n",
    "\n",
    "\n",
    "\n",
    "print(\"result accuracy naive less feaure \")\n",
    "print (accuracy_score(y_true, resultGNBF))\n",
    "\n"
   ]
  },
  {
   "cell_type": "code",
   "execution_count": 92,
   "metadata": {
    "collapsed": false
   },
   "outputs": [],
   "source": [
    "prediction = pd.DataFrame({\"school\":test.loc[:,\"school\"],\"sex\":test.loc[:,\"sex\"],\"age\":test.loc[:,\"age\"],\"address\":test.loc[:,\"address\"], \"famsize\":test.loc[:,\"famsize\"],\"Pstatus\":test.loc[:,\"Pstatus\"],\"Medu\":test.loc[:,\"Medu\"],\"Fedu\":test.loc[:,\"Fedu\"],\"Mjob\":test.loc[:,\"Mjob\"],\"Fjob\":test.loc[:,\"Fjob\"],\"reason\":test.loc[:,\"reason\"],\"guardian\":test.loc[:,\"guardian\"], \"traveltime\":test.loc[:,\"traveltime\"],\"studytime\":test.loc[:,\"studytime\"],\"failures\":test.loc[:,\"failures\"], \"schoolsup\":test.loc[:,\"schoolsup\"], \"famsup\":test.loc[:,\"famsup\"], \"paid\":test.loc[:,\"paid\"], \"activities\":test.loc[:,\"activities\"],\"nursery\":test.loc[:,\"nursery\"],\"higher\":test.loc[:,\"higher\"], \"internet\":test.loc[:,\"internet\"],\"romantic\":test.loc[:,\"romantic\"], \"famrel\":test.loc[:,\"famrel\"], \"freetime\":test.loc[:,\"freetime\"],\"goout\":test.loc[:,\"goout\"], \"Dalc\":test.loc[:,\"Dalc\"],\"Walc\":test.loc[:,\"Walc\"], \"health\":test.loc[:,\"health\"], \"PG1\":test.loc[:,\"PG1\"], \"PG2\":test.loc[:,\"PG2\"],\"predictedMarks\": resultSVMF})\n",
    "prediction.to_csv('result1.csv', index=False)"
   ]
  },
  {
   "cell_type": "code",
   "execution_count": 142,
   "metadata": {
    "collapsed": false
   },
   "outputs": [
    {
     "data": {
      "text/plain": [
       "0.44102564102564101"
      ]
     },
     "execution_count": 142,
     "metadata": {},
     "output_type": "execute_result"
    }
   ],
   "source": [
    "'''\n",
    "from sklearn.metrics import accuracy_score\n",
    "y_true = test.loc[:,\"PG3\"]\n",
    "accuracy_score(y_true, result)\n",
    "'''"
   ]
  },
  {
   "cell_type": "code",
   "execution_count": null,
   "metadata": {
    "collapsed": true
   },
   "outputs": [],
   "source": []
  }
 ],
 "metadata": {
  "anaconda-cloud": {},
  "kernelspec": {
   "display_name": "Python [conda root]",
   "language": "python",
   "name": "conda-root-py"
  },
  "language_info": {
   "codemirror_mode": {
    "name": "ipython",
    "version": 3
   },
   "file_extension": ".py",
   "mimetype": "text/x-python",
   "name": "python",
   "nbconvert_exporter": "python",
   "pygments_lexer": "ipython3",
   "version": "3.5.2"
  }
 },
 "nbformat": 4,
 "nbformat_minor": 1
}
