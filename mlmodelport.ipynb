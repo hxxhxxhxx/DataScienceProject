{
 "cells": [
  {
   "cell_type": "code",
   "execution_count": 1,
   "metadata": {
    "collapsed": false
   },
   "outputs": [
    {
     "name": "stdout",
     "output_type": "stream",
     "text": [
      "C:\\Users\\Mukesh  Yadav\\Documents\\python project\\student\n"
     ]
    }
   ],
   "source": [
    "cd student"
   ]
  },
  {
   "cell_type": "code",
   "execution_count": 2,
   "metadata": {
    "collapsed": false
   },
   "outputs": [
    {
     "name": "stderr",
     "output_type": "stream",
     "text": [
      "C:\\Users\\Mukesh  Yadav\\Anaconda2\\lib\\site-packages\\sklearn\\cross_validation.py:44: DeprecationWarning: This module was deprecated in version 0.18 in favor of the model_selection module into which all the refactored classes and functions are moved. Also note that the interface of the new CV iterators are different from that of this module. This module will be removed in 0.20.\n",
      "  \"This module will be removed in 0.20.\", DeprecationWarning)\n"
     ]
    },
    {
     "name": "stdout",
     "output_type": "stream",
     "text": [
      "\n",
      "\n",
      "Top of the training data:\n",
      "   Unnamed: 0 school sex  age address famsize Pstatus  Medu  Fedu      Mjob  \\\n",
      "0         402     GP   F   17       U     GT3       T     4     3    health   \n",
      "1         553     MS   M   17       U     LE3       A     1     0     other   \n",
      "2         285     GP   M   16       R     GT3       T     2     1     other   \n",
      "3         497     MS   M   17       U     GT3       T     3     3  services   \n",
      "4         138     GP   M   15       R     GT3       T     3     4   at_home   \n",
      "\n",
      "  ... famrel freetime goout  Dalc  Walc  health absences PG1 PG2 PG3  \n",
      "0 ...      4        4     3     1     3       4        0  11  12  13  \n",
      "1 ...      4        1     2     1     1       5        4  11  11  12  \n",
      "2 ...      3        3     2     1     3       3        2  14  13  12  \n",
      "3 ...      5        4     5     3     4       5        0  10  11  10  \n",
      "4 ...      5        3     3     1     1       5        2  12  11  11  \n",
      "\n",
      "[5 rows x 34 columns]\n",
      "\n",
      "\n",
      "Summary statistics of training data\n",
      "       Unnamed: 0         age        Medu        Fedu  traveltime   studytime  \\\n",
      "count  454.000000  454.000000  454.000000  454.000000  454.000000  454.000000   \n",
      "mean   314.843612   16.676211    2.519824    2.317181    1.572687    1.929515   \n",
      "std    187.836726    1.206497    1.121062    1.104202    0.747477    0.834870   \n",
      "min      1.000000   15.000000    0.000000    0.000000    1.000000    1.000000   \n",
      "25%    145.250000   16.000000    2.000000    1.000000    1.000000    1.000000   \n",
      "50%    314.500000   17.000000    2.000000    2.000000    1.000000    2.000000   \n",
      "75%    477.500000   18.000000    4.000000    3.000000    2.000000    2.000000   \n",
      "max    648.000000   22.000000    4.000000    4.000000    4.000000    4.000000   \n",
      "\n",
      "         failures      famrel    freetime       goout        Dalc        Walc  \\\n",
      "count  454.000000  454.000000  454.000000  454.000000  454.000000  454.000000   \n",
      "mean     0.220264    3.962555    3.165198    3.125551    1.515419    2.284141   \n",
      "std      0.601642    0.930669    1.080236    1.195876    0.929516    1.287009   \n",
      "min      0.000000    1.000000    1.000000    1.000000    1.000000    1.000000   \n",
      "25%      0.000000    4.000000    2.250000    2.000000    1.000000    1.000000   \n",
      "50%      0.000000    4.000000    3.000000    3.000000    1.000000    2.000000   \n",
      "75%      0.000000    5.000000    4.000000    4.000000    2.000000    3.000000   \n",
      "max      3.000000    5.000000    5.000000    5.000000    5.000000    5.000000   \n",
      "\n",
      "           health    absences         PG1         PG2         PG3  \n",
      "count  454.000000  454.000000  454.000000  454.000000  454.000000  \n",
      "mean     3.508811    3.407489   11.528634   11.707048   12.072687  \n",
      "std      1.446214    4.402391    2.666582    2.842455    3.123860  \n",
      "min      1.000000    0.000000    4.000000    0.000000    0.000000  \n",
      "25%      2.000000    0.000000   10.000000   10.000000   10.000000  \n",
      "50%      4.000000    2.000000   11.000000   11.000000   12.000000  \n",
      "75%      5.000000    5.000000   13.000000   14.000000   14.000000  \n",
      "max      5.000000   30.000000   19.000000   18.000000   18.000000  \n"
     ]
    }
   ],
   "source": [
    "import numpy as np\n",
    "import pandas as pd\n",
    "from sklearn import cross_validation\n",
    "from sklearn.ensemble import RandomForestClassifier\n",
    "\n",
    "#Print you can execute arbitrary python code\n",
    "train = pd.read_csv(\"trainPort.csv\" )\n",
    "test = pd.read_csv(\"testPort.csv\")\n",
    "\n",
    "#Print to standard output, and see the results in the \"log\" section below after running your script\n",
    "print(\"\\n\\nTop of the training data:\")\n",
    "print(train.head())\n",
    "\n",
    "print(\"\\n\\nSummary statistics of training data\")\n",
    "print(train.describe())"
   ]
  },
  {
   "cell_type": "code",
   "execution_count": 3,
   "metadata": {
    "collapsed": false
   },
   "outputs": [
    {
     "data": {
      "text/plain": [
       "Index([u'Unnamed: 0', u'school', u'sex', u'age', u'address', u'famsize',\n",
       "       u'Pstatus', u'Medu', u'Fedu', u'Mjob', u'Fjob', u'reason', u'guardian',\n",
       "       u'traveltime', u'studytime', u'failures', u'schoolsup', u'famsup',\n",
       "       u'paid', u'activities', u'nursery', u'higher', u'internet', u'romantic',\n",
       "       u'famrel', u'freetime', u'goout', u'Dalc', u'Walc', u'health',\n",
       "       u'absences', u'PG1', u'PG2', u'PG3'],\n",
       "      dtype='object')"
      ]
     },
     "execution_count": 3,
     "metadata": {},
     "output_type": "execute_result"
    }
   ],
   "source": [
    "train.columns"
   ]
  },
  {
   "cell_type": "code",
   "execution_count": 4,
   "metadata": {
    "collapsed": false
   },
   "outputs": [
    {
     "name": "stdout",
     "output_type": "stream",
     "text": [
      "\n",
      "\n",
      "Train set size: (454, 34)\n",
      "\n",
      "\n",
      "Top of features:\n",
      "  school sex  age address famsize Pstatus  Medu  Fedu      Mjob     Fjob ...  \\\n",
      "0     GP   F   17       U     GT3       T     4     3    health    other ...   \n",
      "1     MS   M   17       U     LE3       A     1     0     other    other ...   \n",
      "2     GP   M   16       R     GT3       T     2     1     other    other ...   \n",
      "3     MS   M   17       U     GT3       T     3     3  services  at_home ...   \n",
      "4     GP   M   15       R     GT3       T     3     4   at_home  teacher ...   \n",
      "\n",
      "  romantic famrel  freetime  goout  Dalc Walc health absences PG1 PG2  \n",
      "0      yes      4         4      3     1    3      4        0  11  12  \n",
      "1      yes      4         1      2     1    1      5        4  11  11  \n",
      "2       no      3         3      2     1    3      3        2  14  13  \n",
      "3       no      5         4      5     3    4      5        0  10  11  \n",
      "4      yes      5         3      3     1    1      5        2  12  11  \n",
      "\n",
      "[5 rows x 32 columns]\n",
      "\n",
      "\n",
      "Top of labels\n",
      "0    13\n",
      "1    12\n",
      "2    12\n",
      "3    10\n",
      "4    11\n",
      "Name: PG3, dtype: int64\n"
     ]
    }
   ],
   "source": [
    "# Split train set to X(features), Y(labels)\n",
    "print(\"\\n\\nTrain set size: %s\" % (train.shape,))\n",
    "X = train.loc[:, ['school', 'sex', 'age', 'address', 'famsize', 'Pstatus', 'Medu', 'Fedu','Mjob', 'Fjob', 'reason', 'guardian', 'traveltime', 'studytime','failures', 'schoolsup', 'famsup', 'paid', 'activities', 'nursery','higher', 'internet', 'romantic', 'famrel', 'freetime', 'goout', 'Dalc','Walc', 'health', 'absences', 'PG1', 'PG2']]\n",
    "Y = train.loc[:,\"PG3\"]\n",
    "print(\"\\n\\nTop of features:\")\n",
    "print(X.head())\n",
    "print(\"\\n\\nTop of labels\")\n",
    "print(Y.head())"
   ]
  },
  {
   "cell_type": "code",
   "execution_count": 5,
   "metadata": {
    "collapsed": false
   },
   "outputs": [
    {
     "name": "stdout",
     "output_type": "stream",
     "text": [
      "\n",
      "\n",
      "Train set size: (454, 34)\n",
      "\n",
      "\n",
      "Top of features:\n",
      "  school sex  age address famsize Pstatus  Medu  Fedu      Mjob     Fjob ...  \\\n",
      "0     GP   F   17       U     GT3       T     4     3    health    other ...   \n",
      "1     MS   M   17       U     LE3       A     1     0     other    other ...   \n",
      "2     GP   M   16       R     GT3       T     2     1     other    other ...   \n",
      "3     MS   M   17       U     GT3       T     3     3  services  at_home ...   \n",
      "4     GP   M   15       R     GT3       T     3     4   at_home  teacher ...   \n",
      "\n",
      "  romantic famrel  freetime  goout  Dalc Walc health absences PG1 PG2  \n",
      "0      yes      4         4      3     1    3      4        0  11  12  \n",
      "1      yes      4         1      2     1    1      5        4  11  11  \n",
      "2       no      3         3      2     1    3      3        2  14  13  \n",
      "3       no      5         4      5     3    4      5        0  10  11  \n",
      "4      yes      5         3      3     1    1      5        2  12  11  \n",
      "\n",
      "[5 rows x 32 columns]\n",
      "\n",
      "\n",
      "Top of labels\n",
      "0    13\n",
      "1    12\n",
      "2    12\n",
      "3    10\n",
      "4    11\n",
      "Name: PG3, dtype: int64\n"
     ]
    }
   ],
   "source": [
    "# Split train set to X(features), Y(labels)\n",
    "print(\"\\n\\nTrain set size: %s\" % (train.shape,))\n",
    "X = train.loc[:, ['school', 'sex', 'age', 'address', 'famsize', 'Pstatus', 'Medu', 'Fedu','Mjob', 'Fjob', 'reason', 'guardian', 'traveltime', 'studytime','failures', 'schoolsup', 'famsup', 'paid', 'activities', 'nursery','higher', 'internet', 'romantic', 'famrel', 'freetime', 'goout', 'Dalc','Walc', 'health', 'absences', 'PG1', 'PG2']]\n",
    "Y = train.loc[:,\"PG3\"]\n",
    "print(\"\\n\\nTop of features:\")\n",
    "print(X.head())\n",
    "print(\"\\n\\nTop of labels\")\n",
    "print(Y.head())\n",
    "\n",
    "# Data Clean"
   ]
  },
  {
   "cell_type": "code",
   "execution_count": 6,
   "metadata": {
    "collapsed": true
   },
   "outputs": [],
   "source": [
    "# For Sex, convert male ->1, female -> 0\n",
    "sex_map = {\"M\":1, \"F\":0}\n",
    "X.loc[:, \"sex\"] = X.loc[:, \"sex\"].map(sex_map)"
   ]
  },
  {
   "cell_type": "code",
   "execution_count": 7,
   "metadata": {
    "collapsed": true
   },
   "outputs": [],
   "source": [
    "# For romantic, convert yes ->1, no -> 0\n",
    "romantic_map = {\"yes\":1, \"no\":0}\n",
    "X.loc[:, \"romantic\"] = X.loc[:, \"romantic\"].map(romantic_map)"
   ]
  },
  {
   "cell_type": "code",
   "execution_count": 8,
   "metadata": {
    "collapsed": true
   },
   "outputs": [],
   "source": [
    "# For internet, convert yes ->1, no -> 0\n",
    "internet_map = {\"yes\":1, \"no\":0}\n",
    "X.loc[:, \"internet\"] = X.loc[:, \"internet\"].map(internet_map)"
   ]
  },
  {
   "cell_type": "code",
   "execution_count": 9,
   "metadata": {
    "collapsed": true
   },
   "outputs": [],
   "source": [
    "# For schoolsup, convert yes ->1, no -> 0\n",
    "schoolsup_map = {\"yes\":1, \"no\":0}\n",
    "X.loc[:, \"schoolsup\"] = X.loc[:, \"schoolsup\"].map(schoolsup_map)"
   ]
  },
  {
   "cell_type": "code",
   "execution_count": 10,
   "metadata": {
    "collapsed": true
   },
   "outputs": [],
   "source": [
    "# For famsup, convert yes ->1, no -> 0\n",
    "famsup_map = {\"yes\":1, \"no\":0}\n",
    "X.loc[:, \"famsup\"] = X.loc[:, \"famsup\"].map(famsup_map)"
   ]
  },
  {
   "cell_type": "code",
   "execution_count": 11,
   "metadata": {
    "collapsed": true
   },
   "outputs": [],
   "source": [
    "# For paid, convert yes ->1, no -> 0\n",
    "paid_map = {\"yes\":1, \"no\":0}\n",
    "X.loc[:, \"paid\"] = X.loc[:, \"paid\"].map(paid_map)"
   ]
  },
  {
   "cell_type": "code",
   "execution_count": 12,
   "metadata": {
    "collapsed": true
   },
   "outputs": [],
   "source": [
    "# For activities, convert yes ->1, no -> 0\n",
    "activities_map = {\"yes\":1, \"no\":0}\n",
    "X.loc[:, \"activities\"] = X.loc[:, \"activities\"].map(activities_map)"
   ]
  },
  {
   "cell_type": "code",
   "execution_count": 13,
   "metadata": {
    "collapsed": true
   },
   "outputs": [],
   "source": [
    "# For nursery, convert yes ->1, no -> 0\n",
    "nursery_map = {\"yes\":1, \"no\":0}\n",
    "X.loc[:, \"nursery\"] = X.loc[:, \"nursery\"].map(nursery_map)"
   ]
  },
  {
   "cell_type": "code",
   "execution_count": 14,
   "metadata": {
    "collapsed": true
   },
   "outputs": [],
   "source": [
    "# For higher, convert yes ->1, no -> 0\n",
    "higher_map = {\"yes\":1, \"no\":0}\n",
    "X.loc[:, \"higher\"] = X.loc[:, \"higher\"].map(higher_map)"
   ]
  },
  {
   "cell_type": "code",
   "execution_count": 15,
   "metadata": {
    "collapsed": false
   },
   "outputs": [],
   "source": [
    "# For school, convert gp ->1, ms -> 0\n",
    "school_map = {\"GP\":1, \"MS\":0}\n",
    "X.loc[:, \"school\"] = X.loc[:, \"school\"].map(school_map)"
   ]
  },
  {
   "cell_type": "code",
   "execution_count": 16,
   "metadata": {
    "collapsed": false
   },
   "outputs": [],
   "source": [
    "# For address, convert U ->1, R -> 0\n",
    "address_map = {\"U\":1, \"R\":0}\n",
    "X.loc[:, \"address\"] = X.loc[:, \"address\"].map(address_map)"
   ]
  },
  {
   "cell_type": "code",
   "execution_count": 17,
   "metadata": {
    "collapsed": false
   },
   "outputs": [],
   "source": [
    "# For famsize, convert GT3 ->1, LE3 -> 0\n",
    "famsize_map = {\"GT3\":1, \"LE3\":0}\n",
    "X.loc[:, \"famsize\"] = X.loc[:, \"famsize\"].map(famsize_map)"
   ]
  },
  {
   "cell_type": "code",
   "execution_count": 18,
   "metadata": {
    "collapsed": false
   },
   "outputs": [],
   "source": [
    "# For Pstatus, convert T ->1, A -> 0\n",
    "Pstatus_map = {\"T\":1, \"A\":0}\n",
    "X.loc[:, \"Pstatus\"] = X.loc[:, \"Pstatus\"].map(Pstatus_map)"
   ]
  },
  {
   "cell_type": "code",
   "execution_count": 19,
   "metadata": {
    "collapsed": false
   },
   "outputs": [],
   "source": [
    "# For Mjob, convert \"teacher\" -> 1 \"health\" ->2 \"services\" ->3 \"at_home\" -> 4 \"other\" -> 5\n",
    "Mjob_map = {\"teacher\":1,\"health\":2,\"services\":3,\"at_home\":4,\"other\":5}\n",
    "X.loc[:, \"Mjob\"] = X.loc[:, \"Mjob\"].map(Mjob_map)"
   ]
  },
  {
   "cell_type": "code",
   "execution_count": 20,
   "metadata": {
    "collapsed": false
   },
   "outputs": [],
   "source": [
    "# For Fjob, convert \"teacher\" -> 1 \"health\" ->2 \"services\" ->3 \"at_home\" -> 4 \"other\" -> 5\n",
    "Fjob_map = {\"teacher\":1,\"health\":2,\"services\":3,\"at_home\":4,\"other\":5}\n",
    "X.loc[:, \"Fjob\"] = X.loc[:, \"Fjob\"].map(Fjob_map)"
   ]
  },
  {
   "cell_type": "code",
   "execution_count": 21,
   "metadata": {
    "collapsed": true
   },
   "outputs": [],
   "source": [
    "# For reason, convert \"home\" -> 1 \"reputation\" ->2 \"course\" ->3 \"other\" -> 4\n",
    "reason_map = {\"home\":1,\"reputation\":2,\"course\":3,\"other\":4}\n",
    "X.loc[:, \"reason\"] = X.loc[:, \"reason\"].map(reason_map)"
   ]
  },
  {
   "cell_type": "code",
   "execution_count": 22,
   "metadata": {
    "collapsed": true
   },
   "outputs": [],
   "source": [
    "# For guardian, convert mother ->2, father -> 1 other -> 0\n",
    "guardian_map = {\"mother\":2, \"father\":1, \"other\":0}\n",
    "X.loc[:, \"guardian\"] = X.loc[:, \"guardian\"].map(guardian_map)"
   ]
  },
  {
   "cell_type": "code",
   "execution_count": 23,
   "metadata": {
    "collapsed": true
   },
   "outputs": [],
   "source": [
    "X.to_csv('cleanedPortView32Feature.csv', sep=',')"
   ]
  },
  {
   "cell_type": "code",
   "execution_count": 24,
   "metadata": {
    "collapsed": false
   },
   "outputs": [
    {
     "data": {
      "text/plain": [
       "'\\n# Train classifier Random Forest\\n#clf = RandomForestClassifier(n_estimators=int(X.shape[1] / 2))\\nclf = RandomForestClassifier(n_estimators=100)\\nscores = cross_validation.cross_val_score(clf, X, Y, cv=8)\\nprint(\"RandomForese Accuracy: %0.2f (+/- %0.2f)\" % (scores.mean(), scores.std() * 2))\\nclf = clf.fit(X, Y)\\n'"
      ]
     },
     "execution_count": 24,
     "metadata": {},
     "output_type": "execute_result"
    }
   ],
   "source": [
    "'''\n",
    "# Train classifier Random Forest\n",
    "#clf = RandomForestClassifier(n_estimators=int(X.shape[1] / 2))\n",
    "clf = RandomForestClassifier(n_estimators=100)\n",
    "scores = cross_validation.cross_val_score(clf, X, Y, cv=8)\n",
    "print(\"RandomForese Accuracy: %0.2f (+/- %0.2f)\" % (scores.mean(), scores.std() * 2))\n",
    "clf = clf.fit(X, Y)\n",
    "'''"
   ]
  },
  {
   "cell_type": "code",
   "execution_count": 25,
   "metadata": {
    "collapsed": false
   },
   "outputs": [
    {
     "name": "stderr",
     "output_type": "stream",
     "text": [
      "C:\\Users\\Mukesh  Yadav\\Anaconda2\\lib\\site-packages\\sklearn\\cross_validation.py:552: Warning: The least populated class in y has only 1 members, which is too few. The minimum number of labels for any class cannot be less than n_folds=8.\n",
      "  % (min_labels, self.n_folds)), Warning)\n"
     ]
    },
    {
     "name": "stdout",
     "output_type": "stream",
     "text": [
      "[ 0.01502224  0.01632196  0.039309    0.01496717  0.01543349  0.00959902\n",
      "  0.03422798  0.03699729  0.03544223  0.03001669  0.03406554  0.0175487\n",
      "  0.02683802  0.02860056  0.01651749  0.00924173  0.01555917  0.00602449\n",
      "  0.01793131  0.01377514  0.0100703   0.01280303  0.01661905  0.03185749\n",
      "  0.03685229  0.03717619  0.02334951  0.03709527  0.03501326  0.04679882\n",
      "  0.09872747  0.18019809]\n",
      "[ 0.01502224  0.01632196  0.039309    0.01496717  0.01543349  0.00959902\n",
      "  0.03422798  0.03699729  0.03544223  0.03001669  0.03406554  0.0175487\n",
      "  0.02683802  0.02860056  0.01651749  0.00924173  0.01555917  0.00602449\n",
      "  0.01793131  0.01377514  0.0100703   0.01280303  0.01661905  0.03185749\n",
      "  0.03685229  0.03717619  0.02334951  0.03709527  0.03501326  0.04679882\n",
      "  0.09872747  0.18019809]\n"
     ]
    },
    {
     "data": {
      "text/plain": [
       "<Container object of 32 artists>"
      ]
     },
     "execution_count": 25,
     "metadata": {},
     "output_type": "execute_result"
    },
    {
     "data": {
      "image/png": "[encoded data removed]",
      "text/plain": [
       "<matplotlib.figure.Figure at 0xc7bba90>"
      ]
     },
     "metadata": {},
     "output_type": "display_data"
    }
   ],
   "source": [
    "# Features selecting Feature Importance\n",
    "\n",
    "from sklearn.feature_selection import SelectKBest\n",
    "from sklearn.feature_selection import chi2\n",
    "\n",
    "%matplotlib inline\n",
    "import matplotlib.pyplot as plt\n",
    "\n",
    "\n",
    "clfscr = RandomForestClassifier(n_estimators=100)\n",
    "scores = cross_validation.cross_val_score(clfscr, X, Y, cv=8)\n",
    "\n",
    "clfscr = clfscr.fit(X, Y)\n",
    "print(clfscr.feature_importances_)\n",
    "\n",
    "pddq = pd.DataFrame(clfscr.feature_importances_)\n",
    "\n",
    "pddq.hist()\n",
    "\n",
    "yy = clfscr.feature_importances_\n",
    "NN = len(yy)\n",
    "xx = range(NN)\n",
    "print (yy)\n",
    "width = 1/1.5\n",
    "plt.bar(xx, yy*100, color=\"red\")\n",
    "\n",
    "\n"
   ]
  },
  {
   "cell_type": "code",
   "execution_count": 26,
   "metadata": {
    "collapsed": false
   },
   "outputs": [
    {
     "data": {
      "text/plain": [
       "Index([u'school', u'sex', u'age', u'address', u'famsize', u'Pstatus', u'Medu',\n",
       "       u'Fedu', u'Mjob', u'Fjob', u'reason', u'guardian', u'traveltime',\n",
       "       u'studytime', u'failures', u'schoolsup', u'famsup', u'paid',\n",
       "       u'activities', u'nursery', u'higher', u'internet', u'romantic',\n",
       "       u'famrel', u'freetime', u'goout', u'Dalc', u'Walc', u'health',\n",
       "       u'absences', u'PG1', u'PG2'],\n",
       "      dtype='object')"
      ]
     },
     "execution_count": 26,
     "metadata": {},
     "output_type": "execute_result"
    }
   ],
   "source": [
    "X.columns"
   ]
  },
  {
   "cell_type": "code",
   "execution_count": 27,
   "metadata": {
    "collapsed": false
   },
   "outputs": [
    {
     "name": "stdout",
     "output_type": "stream",
     "text": [
      "[  17.423    9.162    4.051    9.866    2.815    0.977   24.826   21.666\n",
      "    9.506    7.694    8.918    2.141    9.09    13.854  196.419   20.716\n",
      "    7.129   14.123    8.747    2.965   11.252    3.675    8.594    2.142\n",
      "    7.883   13.278   30.299   22.97     9.828  181.913  221.98   279.95 ]\n",
      "[[ 0  0 11 12]\n",
      " [ 0  4 11 11]\n",
      " [ 0  2 14 13]\n",
      " ..., \n",
      " [ 0  0 15 13]\n",
      " [ 0  6 16 16]\n",
      " [ 0  8 15 15]]\n"
     ]
    },
    {
     "data": {
      "text/plain": [
       "<Container object of 32 artists>"
      ]
     },
     "execution_count": 27,
     "metadata": {},
     "output_type": "execute_result"
    },
    {
     "data": {
      "image/png": "[encoded data removed]",
      "text/plain": [
       "<matplotlib.figure.Figure at 0xc7a6a90>"
      ]
     },
     "metadata": {},
     "output_type": "display_data"
    }
   ],
   "source": [
    "# feature extraction Univariate Selection\n",
    "\n",
    "testK = SelectKBest(score_func=chi2, k=4)\n",
    "fit = testK.fit(X, Y)\n",
    "# summarize scores\n",
    "np.set_printoptions(precision=3)\n",
    "print(fit.scores_)\n",
    "features = fit.transform(X)\n",
    "# summarize selected features\n",
    "print(features[:,:])\n",
    "\n",
    "\n",
    "yu = fit.scores_\n",
    "N = len(yu)\n",
    "x = range(N)\n",
    "width = 1/1.5\n",
    "plt.bar(x, yu, color=\"blue\")"
   ]
  },
  {
   "cell_type": "code",
   "execution_count": 28,
   "metadata": {
    "collapsed": false
   },
   "outputs": [
    {
     "data": {
      "text/plain": [
       "Index([u'school', u'sex', u'age', u'address', u'famsize', u'Pstatus', u'Medu',\n",
       "       u'Fedu', u'Mjob', u'Fjob', u'reason', u'guardian', u'traveltime',\n",
       "       u'studytime', u'failures', u'schoolsup', u'famsup', u'paid',\n",
       "       u'activities', u'nursery', u'higher', u'internet', u'romantic',\n",
       "       u'famrel', u'freetime', u'goout', u'Dalc', u'Walc', u'health',\n",
       "       u'absences', u'PG1', u'PG2'],\n",
       "      dtype='object')"
      ]
     },
     "execution_count": 28,
     "metadata": {},
     "output_type": "execute_result"
    }
   ],
   "source": [
    "X.columns"
   ]
  },
  {
   "cell_type": "code",
   "execution_count": 29,
   "metadata": {
    "collapsed": false
   },
   "outputs": [
    {
     "name": "stdout",
     "output_type": "stream",
     "text": [
      "5\n",
      "[ True False False False False False False False False False False False\n",
      "  True False  True  True False False False False  True False False False\n",
      " False False False False False False False False]\n",
      "[ 1 13  6  2 15 10 21 11 14 24 20 17  1 22  1  1  8  3 16 18  1 28 12 27 23\n",
      "  9  4 26 19 25  7  5]\n"
     ]
    }
   ],
   "source": [
    "# feature extraction  Recursive Feature Elimination\n",
    "\n",
    "from sklearn.feature_selection import RFE\n",
    "from sklearn.linear_model import LogisticRegression\n",
    "\n",
    "model = LogisticRegression()\n",
    "rfe = RFE(model, 5)\n",
    "fit = rfe.fit(X, Y)\n",
    "print(fit.n_features_)\n",
    "print(fit.support_)\n",
    "print(fit.ranking_)"
   ]
  },
  {
   "cell_type": "code",
   "execution_count": 30,
   "metadata": {
    "collapsed": false
   },
   "outputs": [
    {
     "data": {
      "text/plain": [
       "Index([u'school', u'sex', u'age', u'address', u'famsize', u'Pstatus', u'Medu',\n",
       "       u'Fedu', u'Mjob', u'Fjob', u'reason', u'guardian', u'traveltime',\n",
       "       u'studytime', u'failures', u'schoolsup', u'famsup', u'paid',\n",
       "       u'activities', u'nursery', u'higher', u'internet', u'romantic',\n",
       "       u'famrel', u'freetime', u'goout', u'Dalc', u'Walc', u'health',\n",
       "       u'absences', u'PG1', u'PG2'],\n",
       "      dtype='object')"
      ]
     },
     "execution_count": 30,
     "metadata": {},
     "output_type": "execute_result"
    }
   ],
   "source": [
    "X.columns"
   ]
  },
  {
   "cell_type": "code",
   "execution_count": 31,
   "metadata": {
    "collapsed": false
   },
   "outputs": [
    {
     "name": "stdout",
     "output_type": "stream",
     "text": [
      "[ 0.373  0.252  0.061]\n",
      "[[  9.435e-03   5.490e-03   5.427e-02   4.768e-04   4.534e-03  -6.473e-03\n",
      "   -2.520e-02  -2.115e-02   3.453e-02   1.734e-02  -1.898e-02  -8.630e-03\n",
      "    2.678e-03  -3.860e-02   3.291e-02   1.836e-03  -4.080e-03  -1.020e-03\n",
      "   -4.742e-03  -7.203e-03  -1.413e-02   3.389e-04   6.967e-03  -2.152e-02\n",
      "    2.267e-03   3.316e-02   4.852e-02   5.920e-02   8.113e-03   9.187e-01\n",
      "   -2.610e-01  -2.671e-01]\n",
      " [  4.392e-02  -1.336e-02  -2.818e-02   2.757e-02  -9.057e-04  -9.109e-03\n",
      "    8.916e-02   7.231e-02  -6.398e-02  -4.684e-02  -5.269e-02   2.039e-03\n",
      "   -3.490e-02   4.315e-02  -5.494e-02  -8.543e-03   1.109e-02  -4.105e-03\n",
      "    9.465e-03   6.028e-03   2.886e-02   1.785e-02  -4.570e-03   9.886e-03\n",
      "   -3.209e-02  -2.833e-02  -3.159e-02  -4.004e-02  -2.117e-02   3.843e-01\n",
      "    6.107e-01   6.639e-01]\n",
      " [  4.160e-02   7.678e-02  -2.103e-02   3.736e-02  -6.544e-03   5.874e-03\n",
      "    4.082e-01   4.091e-01  -5.220e-01  -3.003e-01  -2.323e-03   3.054e-02\n",
      "   -9.069e-02   6.503e-03  -5.771e-03  -1.029e-02   4.392e-02   1.552e-02\n",
      "    3.868e-02   1.568e-02   1.374e-02   5.281e-02  -1.271e-02   2.671e-02\n",
      "    1.423e-01   1.873e-01   1.712e-01   3.035e-01   3.012e-01  -2.484e-02\n",
      "   -3.723e-02  -8.481e-02]]\n"
     ]
    }
   ],
   "source": [
    "# feature extraction  PCA\n",
    "\n",
    "from sklearn.decomposition import PCA\n",
    "\n",
    "# feature extraction\n",
    "pca = PCA(n_components=3)\n",
    "fit = pca.fit(X)\n",
    "# summarize components\n",
    "print(fit.explained_variance_ratio_)\n",
    "print(fit.components_)"
   ]
  },
  {
   "cell_type": "code",
   "execution_count": 32,
   "metadata": {
    "collapsed": false
   },
   "outputs": [
    {
     "data": {
      "text/plain": [
       "Index([u'school', u'sex', u'age', u'address', u'famsize', u'Pstatus', u'Medu',\n",
       "       u'Fedu', u'Mjob', u'Fjob', u'reason', u'guardian', u'traveltime',\n",
       "       u'studytime', u'failures', u'schoolsup', u'famsup', u'paid',\n",
       "       u'activities', u'nursery', u'higher', u'internet', u'romantic',\n",
       "       u'famrel', u'freetime', u'goout', u'Dalc', u'Walc', u'health',\n",
       "       u'absences', u'PG1', u'PG2'],\n",
       "      dtype='object')"
      ]
     },
     "execution_count": 32,
     "metadata": {},
     "output_type": "execute_result"
    }
   ],
   "source": [
    "X.columns"
   ]
  },
  {
   "cell_type": "code",
   "execution_count": 33,
   "metadata": {
    "collapsed": true
   },
   "outputs": [],
   "source": [
    "#XF = X[['age','failures','absences','PG1','PG2']]\n",
    "XF = X[['PG1','PG2']]"
   ]
  },
  {
   "cell_type": "code",
   "execution_count": 34,
   "metadata": {
    "collapsed": false
   },
   "outputs": [
    {
     "data": {
      "text/html": [
       "<div>\n",
       "<table border=\"1\" class=\"dataframe\">\n",
       "  <thead>\n",
       "    <tr style=\"text-align: right;\">\n",
       "      <th></th>\n",
       "      <th>PG1</th>\n",
       "      <th>PG2</th>\n",
       "    </tr>\n",
       "  </thead>\n",
       "  <tbody>\n",
       "    <tr>\n",
       "      <th>0</th>\n",
       "      <td>11</td>\n",
       "      <td>12</td>\n",
       "    </tr>\n",
       "    <tr>\n",
       "      <th>1</th>\n",
       "      <td>11</td>\n",
       "      <td>11</td>\n",
       "    </tr>\n",
       "    <tr>\n",
       "      <th>2</th>\n",
       "      <td>14</td>\n",
       "      <td>13</td>\n",
       "    </tr>\n",
       "    <tr>\n",
       "      <th>3</th>\n",
       "      <td>10</td>\n",
       "      <td>11</td>\n",
       "    </tr>\n",
       "    <tr>\n",
       "      <th>4</th>\n",
       "      <td>12</td>\n",
       "      <td>11</td>\n",
       "    </tr>\n",
       "  </tbody>\n",
       "</table>\n",
       "</div>"
      ],
      "text/plain": [
       "   PG1  PG2\n",
       "0   11   12\n",
       "1   11   11\n",
       "2   14   13\n",
       "3   10   11\n",
       "4   12   11"
      ]
     },
     "execution_count": 34,
     "metadata": {},
     "output_type": "execute_result"
    }
   ],
   "source": [
    "XF.head()"
   ]
  },
  {
   "cell_type": "code",
   "execution_count": null,
   "metadata": {
    "collapsed": true
   },
   "outputs": [],
   "source": []
  },
  {
   "cell_type": "code",
   "execution_count": 35,
   "metadata": {
    "collapsed": true
   },
   "outputs": [],
   "source": [
    "#using SVM\n",
    "from sklearn import svm"
   ]
  },
  {
   "cell_type": "code",
   "execution_count": 36,
   "metadata": {
    "collapsed": false
   },
   "outputs": [
    {
     "data": {
      "text/plain": [
       "SVC(C=1.0, cache_size=200, class_weight=None, coef0=0.0,\n",
       "  decision_function_shape=None, degree=3, gamma='auto', kernel='rbf',\n",
       "  max_iter=-1, probability=False, random_state=None, shrinking=True,\n",
       "  tol=0.001, verbose=False)"
      ]
     },
     "execution_count": 36,
     "metadata": {},
     "output_type": "execute_result"
    }
   ],
   "source": [
    "clfsvm = svm.SVC()\n",
    "clfsvm.fit(X, Y) \n",
    "\n",
    "fsvm = svm.SVC()\n",
    "fsvm.fit(XF, Y) \n"
   ]
  },
  {
   "cell_type": "code",
   "execution_count": 37,
   "metadata": {
    "collapsed": false
   },
   "outputs": [
    {
     "name": "stdout",
     "output_type": "stream",
     "text": [
      "svm Accuracy: 0.40 (+/- 0.08)\n",
      "svm Accuracy: 0.53 (+/- 0.14)\n"
     ]
    }
   ],
   "source": [
    "scores = cross_validation.cross_val_score(clfsvm, X, Y, cv=8)\n",
    "print(\"svm Accuracy: %0.2f (+/- %0.2f)\" % (scores.mean(), scores.std() * 2))\n",
    "\n",
    "\n",
    "scoresf = cross_validation.cross_val_score(fsvm, XF, Y, cv=8)\n",
    "print(\"svm Accuracy: %0.2f (+/- %0.2f)\" % (scoresf.mean(), scoresf.std() * 2))\n"
   ]
  },
  {
   "cell_type": "code",
   "execution_count": 38,
   "metadata": {
    "collapsed": false
   },
   "outputs": [
    {
     "name": "stdout",
     "output_type": "stream",
     "text": [
      "RandomForese Accuracy: 0.38 (+/- 0.10)\n",
      "RandomForese Accuracy: 0.50 (+/- 0.14)\n"
     ]
    }
   ],
   "source": [
    "# Train classifier Random Forest\n",
    "#clf = RandomForestClassifier(n_estimators=int(X.shape[1] / 2))\n",
    "clf = RandomForestClassifier(n_estimators=100)\n",
    "scores = cross_validation.cross_val_score(clf, X, Y, cv=8)\n",
    "print(\"RandomForese Accuracy: %0.2f (+/- %0.2f)\" % (scores.mean(), scores.std() * 2))\n",
    "clf = clf.fit(X, Y)\n",
    "\n",
    "\n",
    "\n",
    "# Train classifier Random Forest\n",
    "#clf = RandomForestClassifier(n_estimators=int(X.shape[1] / 2))\n",
    "clfF = RandomForestClassifier(n_estimators=100)\n",
    "scoresF = cross_validation.cross_val_score(clfF, XF, Y, cv=8)\n",
    "print(\"RandomForese Accuracy: %0.2f (+/- %0.2f)\" % (scoresF.mean(), scoresF.std() * 2))\n",
    "clfF = clfF.fit(XF, Y)"
   ]
  },
  {
   "cell_type": "code",
   "execution_count": 39,
   "metadata": {
    "collapsed": true
   },
   "outputs": [],
   "source": [
    "from sklearn.naive_bayes import GaussianNB\n",
    "gnb = GaussianNB()\n",
    "gnb = gnb.fit(X, Y)\n",
    "\n",
    "gnb = GaussianNB()\n",
    "gnbF = gnb.fit(XF, Y)\n",
    "\n"
   ]
  },
  {
   "cell_type": "code",
   "execution_count": 40,
   "metadata": {
    "collapsed": false
   },
   "outputs": [
    {
     "data": {
      "text/html": [
       "<div>\n",
       "<table border=\"1\" class=\"dataframe\">\n",
       "  <thead>\n",
       "    <tr style=\"text-align: right;\">\n",
       "      <th></th>\n",
       "      <th>Unnamed: 0</th>\n",
       "      <th>school</th>\n",
       "      <th>sex</th>\n",
       "      <th>age</th>\n",
       "      <th>address</th>\n",
       "      <th>famsize</th>\n",
       "      <th>Pstatus</th>\n",
       "      <th>Medu</th>\n",
       "      <th>Fedu</th>\n",
       "      <th>Mjob</th>\n",
       "      <th>...</th>\n",
       "      <th>famrel</th>\n",
       "      <th>freetime</th>\n",
       "      <th>goout</th>\n",
       "      <th>Dalc</th>\n",
       "      <th>Walc</th>\n",
       "      <th>health</th>\n",
       "      <th>absences</th>\n",
       "      <th>PG1</th>\n",
       "      <th>PG2</th>\n",
       "      <th>PG3</th>\n",
       "    </tr>\n",
       "  </thead>\n",
       "  <tbody>\n",
       "    <tr>\n",
       "      <th>0</th>\n",
       "      <td>269</td>\n",
       "      <td>GP</td>\n",
       "      <td>M</td>\n",
       "      <td>16</td>\n",
       "      <td>U</td>\n",
       "      <td>LE3</td>\n",
       "      <td>T</td>\n",
       "      <td>4</td>\n",
       "      <td>3</td>\n",
       "      <td>teacher</td>\n",
       "      <td>...</td>\n",
       "      <td>5</td>\n",
       "      <td>4</td>\n",
       "      <td>5</td>\n",
       "      <td>1</td>\n",
       "      <td>1</td>\n",
       "      <td>3</td>\n",
       "      <td>7</td>\n",
       "      <td>14</td>\n",
       "      <td>14</td>\n",
       "      <td>15</td>\n",
       "    </tr>\n",
       "    <tr>\n",
       "      <th>1</th>\n",
       "      <td>484</td>\n",
       "      <td>MS</td>\n",
       "      <td>F</td>\n",
       "      <td>16</td>\n",
       "      <td>U</td>\n",
       "      <td>LE3</td>\n",
       "      <td>A</td>\n",
       "      <td>2</td>\n",
       "      <td>2</td>\n",
       "      <td>other</td>\n",
       "      <td>...</td>\n",
       "      <td>4</td>\n",
       "      <td>3</td>\n",
       "      <td>4</td>\n",
       "      <td>1</td>\n",
       "      <td>2</td>\n",
       "      <td>1</td>\n",
       "      <td>6</td>\n",
       "      <td>7</td>\n",
       "      <td>7</td>\n",
       "      <td>8</td>\n",
       "    </tr>\n",
       "    <tr>\n",
       "      <th>2</th>\n",
       "      <td>84</td>\n",
       "      <td>GP</td>\n",
       "      <td>F</td>\n",
       "      <td>15</td>\n",
       "      <td>U</td>\n",
       "      <td>GT3</td>\n",
       "      <td>T</td>\n",
       "      <td>1</td>\n",
       "      <td>1</td>\n",
       "      <td>other</td>\n",
       "      <td>...</td>\n",
       "      <td>4</td>\n",
       "      <td>3</td>\n",
       "      <td>2</td>\n",
       "      <td>2</td>\n",
       "      <td>3</td>\n",
       "      <td>4</td>\n",
       "      <td>2</td>\n",
       "      <td>13</td>\n",
       "      <td>12</td>\n",
       "      <td>12</td>\n",
       "    </tr>\n",
       "    <tr>\n",
       "      <th>3</th>\n",
       "      <td>436</td>\n",
       "      <td>MS</td>\n",
       "      <td>F</td>\n",
       "      <td>15</td>\n",
       "      <td>R</td>\n",
       "      <td>LE3</td>\n",
       "      <td>T</td>\n",
       "      <td>1</td>\n",
       "      <td>1</td>\n",
       "      <td>other</td>\n",
       "      <td>...</td>\n",
       "      <td>4</td>\n",
       "      <td>4</td>\n",
       "      <td>3</td>\n",
       "      <td>1</td>\n",
       "      <td>2</td>\n",
       "      <td>2</td>\n",
       "      <td>4</td>\n",
       "      <td>6</td>\n",
       "      <td>7</td>\n",
       "      <td>8</td>\n",
       "    </tr>\n",
       "    <tr>\n",
       "      <th>4</th>\n",
       "      <td>569</td>\n",
       "      <td>MS</td>\n",
       "      <td>M</td>\n",
       "      <td>18</td>\n",
       "      <td>U</td>\n",
       "      <td>GT3</td>\n",
       "      <td>T</td>\n",
       "      <td>3</td>\n",
       "      <td>3</td>\n",
       "      <td>at_home</td>\n",
       "      <td>...</td>\n",
       "      <td>4</td>\n",
       "      <td>4</td>\n",
       "      <td>5</td>\n",
       "      <td>1</td>\n",
       "      <td>3</td>\n",
       "      <td>3</td>\n",
       "      <td>9</td>\n",
       "      <td>4</td>\n",
       "      <td>8</td>\n",
       "      <td>8</td>\n",
       "    </tr>\n",
       "  </tbody>\n",
       "</table>\n",
       "<p>5 rows × 34 columns</p>\n",
       "</div>"
      ],
      "text/plain": [
       "   Unnamed: 0 school sex  age address famsize Pstatus  Medu  Fedu     Mjob  \\\n",
       "0         269     GP   M   16       U     LE3       T     4     3  teacher   \n",
       "1         484     MS   F   16       U     LE3       A     2     2    other   \n",
       "2          84     GP   F   15       U     GT3       T     1     1    other   \n",
       "3         436     MS   F   15       R     LE3       T     1     1    other   \n",
       "4         569     MS   M   18       U     GT3       T     3     3  at_home   \n",
       "\n",
       "  ... famrel freetime goout  Dalc  Walc  health absences PG1 PG2 PG3  \n",
       "0 ...      5        4     5     1     1       3        7  14  14  15  \n",
       "1 ...      4        3     4     1     2       1        6   7   7   8  \n",
       "2 ...      4        3     2     2     3       4        2  13  12  12  \n",
       "3 ...      4        4     3     1     2       2        4   6   7   8  \n",
       "4 ...      4        4     5     1     3       3        9   4   8   8  \n",
       "\n",
       "[5 rows x 34 columns]"
      ]
     },
     "execution_count": 40,
     "metadata": {},
     "output_type": "execute_result"
    }
   ],
   "source": [
    "test.head()"
   ]
  },
  {
   "cell_type": "code",
   "execution_count": null,
   "metadata": {
    "collapsed": true
   },
   "outputs": [],
   "source": []
  },
  {
   "cell_type": "code",
   "execution_count": 41,
   "metadata": {
    "collapsed": false
   },
   "outputs": [
    {
     "name": "stdout",
     "output_type": "stream",
     "text": [
      "\n",
      "\n",
      "Test set size: (195, 34)\n"
     ]
    }
   ],
   "source": [
    "# Split train set to X(features), Y(labels)\n",
    "print(\"\\n\\nTest set size: %s\" % (test.shape,))\n",
    "toPredictTestSet = test.loc[:, ['school', 'sex', 'age', 'address', 'famsize', 'Pstatus', 'Medu', 'Fedu','Mjob', 'Fjob', 'reason', 'guardian', 'traveltime', 'studytime','failures', 'schoolsup', 'famsup', 'paid', 'activities', 'nursery','higher', 'internet', 'romantic', 'famrel', 'freetime', 'goout', 'Dalc','Walc', 'health', 'absences', 'PG1', 'PG2']]\n",
    "\n",
    "# For Sex, convert male ->1, female -> 0\n",
    "sex_map = {\"M\":1, \"F\":0}\n",
    "toPredictTestSet.loc[:, \"sex\"] = toPredictTestSet.loc[:, \"sex\"].map(sex_map)\n",
    "\n",
    "# For romantic, convert yes ->1, no -> 0\n",
    "romantic_map = {\"yes\":1, \"no\":0}\n",
    "toPredictTestSet.loc[:, \"romantic\"] = toPredictTestSet.loc[:, \"romantic\"].map(romantic_map)\n",
    "\n",
    "# For internet, convert yes ->1, no -> 0\n",
    "internet_map = {\"yes\":1, \"no\":0}\n",
    "toPredictTestSet.loc[:, \"internet\"] = toPredictTestSet.loc[:, \"internet\"].map(internet_map)\n",
    "\n",
    "# For schoolsup, convert yes ->1, no -> 0\n",
    "schoolsup_map = {\"yes\":1, \"no\":0}\n",
    "toPredictTestSet.loc[:, \"schoolsup\"] = toPredictTestSet.loc[:, \"schoolsup\"].map(schoolsup_map)\n",
    "\n",
    "\n",
    "# For famsup, convert yes ->1, no -> 0\n",
    "famsup_map = {\"yes\":1, \"no\":0}\n",
    "toPredictTestSet.loc[:, \"famsup\"] = toPredictTestSet.loc[:, \"famsup\"].map(famsup_map)\n",
    "\n",
    "# For paid, convert yes ->1, no -> 0\n",
    "paid_map = {\"yes\":1, \"no\":0}\n",
    "toPredictTestSet.loc[:, \"paid\"] = toPredictTestSet.loc[:, \"paid\"].map(paid_map)\n",
    "\n",
    "# For activities, convert yes ->1, no -> 0\n",
    "activities_map = {\"yes\":1, \"no\":0}\n",
    "toPredictTestSet.loc[:, \"activities\"] = toPredictTestSet.loc[:, \"activities\"].map(activities_map)\n",
    "\n",
    "# For nursery, convert yes ->1, no -> 0\n",
    "nursery_map = {\"yes\":1, \"no\":0}\n",
    "toPredictTestSet.loc[:, \"nursery\"] = toPredictTestSet.loc[:, \"nursery\"].map(nursery_map)\n",
    "\n",
    "# For higher, convert yes ->1, no -> 0\n",
    "higher_map = {\"yes\":1, \"no\":0}\n",
    "toPredictTestSet.loc[:, \"higher\"] = toPredictTestSet.loc[:, \"higher\"].map(higher_map)\n",
    "\n",
    "# For school, convert gp ->1, ms -> 0\n",
    "school_map = {\"GP\":1, \"MS\":0}\n",
    "toPredictTestSet.loc[:, \"school\"] = toPredictTestSet.loc[:, \"school\"].map(school_map)\n",
    "\n",
    "# For address, convert U ->1, R -> 0\n",
    "address_map = {\"U\":1, \"R\":0}\n",
    "toPredictTestSet.loc[:, \"address\"] = toPredictTestSet.loc[:, \"address\"].map(address_map)\n",
    "\n",
    "# For famsize, convert GT3 ->1, LE3 -> 0\n",
    "famsize_map = {\"GT3\":1, \"LE3\":0}\n",
    "toPredictTestSet.loc[:, \"famsize\"] = toPredictTestSet.loc[:, \"famsize\"].map(famsize_map)\n",
    "\n",
    "\n",
    "# For Pstatus, convert T ->1, A -> 0\n",
    "Pstatus_map = {\"T\":1, \"A\":0}\n",
    "toPredictTestSet.loc[:, \"Pstatus\"] = toPredictTestSet.loc[:, \"Pstatus\"].map(Pstatus_map)\n",
    "\n",
    "# For Mjob, convert \"teacher\" -> 1 \"health\" ->2 \"services\" ->3 \"at_home\" -> 4 \"other\" -> 5\n",
    "Mjob_map = {\"teacher\":1,\"health\":2,\"services\":3,\"at_home\":4,\"other\":5}\n",
    "toPredictTestSet.loc[:, \"Mjob\"] = toPredictTestSet.loc[:, \"Mjob\"].map(Mjob_map)\n",
    "\n",
    "# For Fjob, convert \"teacher\" -> 1 \"health\" ->2 \"services\" ->3 \"at_home\" -> 4 \"other\" -> 5\n",
    "Fjob_map = {\"teacher\":1,\"health\":2,\"services\":3,\"at_home\":4,\"other\":5}\n",
    "toPredictTestSet.loc[:, \"Fjob\"] = toPredictTestSet.loc[:, \"Fjob\"].map(Fjob_map)\n",
    "\n",
    "# For reason, convert \"home\" -> 1 \"reputation\" ->2 \"course\" ->3 \"other\" -> 4\n",
    "reason_map = {\"home\":1,\"reputation\":2,\"course\":3,\"other\":4}\n",
    "toPredictTestSet.loc[:, \"reason\"] = toPredictTestSet.loc[:, \"reason\"].map(reason_map)\n",
    "\n",
    "# For guardian, convert mother ->2, father -> 1 other -> 0\n",
    "guardian_map = {\"mother\":2, \"father\":1, \"other\":0}\n",
    "toPredictTestSet.loc[:, \"guardian\"] = toPredictTestSet.loc[:, \"guardian\"].map(guardian_map)\n",
    "\n",
    "toPredictTestSet.to_csv('testView.csv', sep=',')\n",
    "\n"
   ]
  },
  {
   "cell_type": "code",
   "execution_count": 42,
   "metadata": {
    "collapsed": true
   },
   "outputs": [],
   "source": [
    "#predictF = toPredictTestSet[['age','failures','absences','PG1','PG2']]\n",
    "#predictF = toPredictTestSet[['failures','absences','PG1','PG2']]\n",
    "predictF = toPredictTestSet[['PG1','PG2']]"
   ]
  },
  {
   "cell_type": "code",
   "execution_count": 43,
   "metadata": {
    "collapsed": false
   },
   "outputs": [],
   "source": [
    "resultRF = clf.predict(toPredictTestSet)\n",
    "resultRFF = clfF.predict(predictF)\n",
    "\n",
    "\n",
    "resultSVM = clfsvm.predict(toPredictTestSet)\n",
    "resultSVMF = fsvm.predict(predictF)\n",
    "\n",
    "\n",
    "#resultGNB = gnb.predict(toPredictTestSet)\n",
    "resultGNBF = gnb.predict(predictF)"
   ]
  },
  {
   "cell_type": "code",
   "execution_count": null,
   "metadata": {
    "collapsed": true
   },
   "outputs": [],
   "source": []
  },
  {
   "cell_type": "code",
   "execution_count": 56,
   "metadata": {
    "collapsed": false
   },
   "outputs": [
    {
     "name": "stdout",
     "output_type": "stream",
     "text": [
      "Results---------------------->\n",
      "Accuracy using Random Forest:\n",
      "0.420512820513\n",
      "Accuracy using Random Forest with less features:\n",
      "0.415384615385\n",
      "Accuracy using SVM:\n",
      "0.348717948718\n",
      "Accuracy using SVM with less features:\n",
      "0.425641025641\n",
      "Accuracy using Naive with less features:\n",
      "0.415384615385\n"
     ]
    }
   ],
   "source": [
    "from sklearn.metrics import accuracy_score\n",
    "y_true = test.loc[:,\"PG3\"]\n",
    "print(\"Results---------------------->\")\n",
    "print(\"Accuracy using Random Forest:\")\n",
    "print (accuracy_score(y_true, resultRF))\n",
    "\n",
    "print(\"Accuracy using Random Forest with less features:\")\n",
    "print (accuracy_score(y_true, resultRFF))\n",
    "\n",
    "print(\"Results---------------------->\")\n",
    "print(\"Accuracy using SVM:\")\n",
    "print (accuracy_score(y_true, resultSVM))\n",
    "\n",
    "print(\"Accuracy using SVM with less features:\")\n",
    "print (accuracy_score(y_true, resultSVMF))\n",
    "\n",
    "print(\"Results---------------------->\")\n",
    "print(\"Accuracy using Naive with less features:\")\n",
    "print (accuracy_score(y_true, resultGNBF))\n",
    "\n"
   ]
  },
  {
   "cell_type": "code",
   "execution_count": 92,
   "metadata": {
    "collapsed": false
   },
   "outputs": [],
   "source": [
    "prediction = pd.DataFrame({\"school\":test.loc[:,\"school\"],\"sex\":test.loc[:,\"sex\"],\"age\":test.loc[:,\"age\"],\"address\":test.loc[:,\"address\"], \"famsize\":test.loc[:,\"famsize\"],\"Pstatus\":test.loc[:,\"Pstatus\"],\"Medu\":test.loc[:,\"Medu\"],\"Fedu\":test.loc[:,\"Fedu\"],\"Mjob\":test.loc[:,\"Mjob\"],\"Fjob\":test.loc[:,\"Fjob\"],\"reason\":test.loc[:,\"reason\"],\"guardian\":test.loc[:,\"guardian\"], \"traveltime\":test.loc[:,\"traveltime\"],\"studytime\":test.loc[:,\"studytime\"],\"failures\":test.loc[:,\"failures\"], \"schoolsup\":test.loc[:,\"schoolsup\"], \"famsup\":test.loc[:,\"famsup\"], \"paid\":test.loc[:,\"paid\"], \"activities\":test.loc[:,\"activities\"],\"nursery\":test.loc[:,\"nursery\"],\"higher\":test.loc[:,\"higher\"], \"internet\":test.loc[:,\"internet\"],\"romantic\":test.loc[:,\"romantic\"], \"famrel\":test.loc[:,\"famrel\"], \"freetime\":test.loc[:,\"freetime\"],\"goout\":test.loc[:,\"goout\"], \"Dalc\":test.loc[:,\"Dalc\"],\"Walc\":test.loc[:,\"Walc\"], \"health\":test.loc[:,\"health\"], \"PG1\":test.loc[:,\"PG1\"], \"PG2\":test.loc[:,\"PG2\"],\"predictedMarks\": resultSVMF})\n",
    "prediction.to_csv('result1.csv', index=False)"
   ]
  },
  {
   "cell_type": "code",
   "execution_count": 142,
   "metadata": {
    "collapsed": false
   },
   "outputs": [
    {
     "data": {
      "text/plain": [
       "0.44102564102564101"
      ]
     },
     "execution_count": 142,
     "metadata": {},
     "output_type": "execute_result"
    }
   ],
   "source": [
    "'''\n",
    "from sklearn.metrics import accuracy_score\n",
    "y_true = test.loc[:,\"PG3\"]\n",
    "accuracy_score(y_true, result)\n",
    "'''"
   ]
  },
  {
   "cell_type": "code",
   "execution_count": null,
   "metadata": {
    "collapsed": true
   },
   "outputs": [],
   "source": []
  }
 ],
 "metadata": {
  "anaconda-cloud": {},
  "kernelspec": {
   "display_name": "Python [conda root]",
   "language": "python",
   "name": "conda-root-py"
  },
  "language_info": {
   "codemirror_mode": {
    "name": "ipython",
    "version": 2
   },
   "file_extension": ".py",
   "mimetype": "text/x-python",
   "name": "python",
   "nbconvert_exporter": "python",
   "pygments_lexer": "ipython2",
   "version": "2.7.12"
  }
 },
 "nbformat": 4,
 "nbformat_minor": 1
}
